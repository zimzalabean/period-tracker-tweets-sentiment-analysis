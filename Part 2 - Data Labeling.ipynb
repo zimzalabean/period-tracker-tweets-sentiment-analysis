{
 "cells": [
  {
   "cell_type": "markdown",
   "id": "7875869a",
   "metadata": {},
   "source": [
    "# Part 2: Data labeling\n",
    "Collaboration with Rita Lyu.\n",
    "\n",
    "Now that all the training data have been labeled, we want to extract meaning full features from what we have to train classifiers that provide adequate accuracy to label all 193,000 tweets in our original dataset. For each class, we will test out different algorithms suitable for the data natures.   \n",
    "\n",
    "\n",
    "\n",
    "**Table of Contents**\n",
    "1. [Extracting the features](#sec1)\n",
    "2. [Determining user type](#sec2)\n",
    "3. [Period tracker relevance](#sec3)\n",
    "4. [Sentiment Analysis](#sec4)\n",
    "5. [Labeling the data](#sec5)\n",
    "    "
   ]
  },
  {
   "cell_type": "markdown",
   "id": "24493c52",
   "metadata": {},
   "source": [
    " ### 1. Extracting the features"
   ]
  },
  {
   "cell_type": "code",
   "execution_count": 1,
   "id": "1493e9c3",
   "metadata": {},
   "outputs": [],
   "source": [
    "import pandas as pd\n",
    "import numpy as np\n",
    "import csv, json\n",
    "import warnings\n",
    "warnings.filterwarnings('ignore')"
   ]
  },
  {
   "cell_type": "code",
   "execution_count": 2,
   "id": "dbcab92e",
   "metadata": {},
   "outputs": [
    {
     "data": {
      "text/html": [
       "<div>\n",
       "<style scoped>\n",
       "    .dataframe tbody tr th:only-of-type {\n",
       "        vertical-align: middle;\n",
       "    }\n",
       "\n",
       "    .dataframe tbody tr th {\n",
       "        vertical-align: top;\n",
       "    }\n",
       "\n",
       "    .dataframe thead th {\n",
       "        text-align: right;\n",
       "    }\n",
       "</style>\n",
       "<table border=\"1\" class=\"dataframe\">\n",
       "  <thead>\n",
       "    <tr style=\"text-align: right;\">\n",
       "      <th></th>\n",
       "      <th>tweet_id</th>\n",
       "      <th>time</th>\n",
       "      <th>user_id</th>\n",
       "      <th>text</th>\n",
       "      <th>retweet_count</th>\n",
       "      <th>reply_count</th>\n",
       "      <th>like_count</th>\n",
       "      <th>quote_count</th>\n",
       "      <th>username</th>\n",
       "      <th>name</th>\n",
       "      <th>...</th>\n",
       "      <th>verified</th>\n",
       "      <th>followers_count</th>\n",
       "      <th>tweet_count</th>\n",
       "      <th>tweets_SRH</th>\n",
       "      <th>following_count</th>\n",
       "      <th>user_type</th>\n",
       "      <th>listed_count</th>\n",
       "      <th>period_tracking</th>\n",
       "      <th>data_concern</th>\n",
       "      <th>sentiment</th>\n",
       "    </tr>\n",
       "  </thead>\n",
       "  <tbody>\n",
       "    <tr>\n",
       "      <th>0</th>\n",
       "      <td>1511835211692077058</td>\n",
       "      <td>2022-04-06 22:36:17+00:00</td>\n",
       "      <td>1.329283e+18</td>\n",
       "      <td>@Margare19954289 I was shocked to discover how...</td>\n",
       "      <td>0</td>\n",
       "      <td>0</td>\n",
       "      <td>1</td>\n",
       "      <td>0</td>\n",
       "      <td>LeslieG03751183</td>\n",
       "      <td>Leslie GG/ Cheeky Oma ☮️💖🙀🤭🤢🙄😷💚🇺🇦🙏🏻🇺🇦</td>\n",
       "      <td>...</td>\n",
       "      <td>False</td>\n",
       "      <td>183</td>\n",
       "      <td>3868.0</td>\n",
       "      <td>1</td>\n",
       "      <td>129</td>\n",
       "      <td>indv</td>\n",
       "      <td>0.0</td>\n",
       "      <td>False</td>\n",
       "      <td>False</td>\n",
       "      <td>negative</td>\n",
       "    </tr>\n",
       "    <tr>\n",
       "      <th>1</th>\n",
       "      <td>1501587893264998401</td>\n",
       "      <td>2022-03-09 15:57:06+00:00</td>\n",
       "      <td>1.308420e+18</td>\n",
       "      <td>Me: cannot figure out why my skin is going nut...</td>\n",
       "      <td>0</td>\n",
       "      <td>1</td>\n",
       "      <td>1</td>\n",
       "      <td>0</td>\n",
       "      <td>ModelAyshaMirza</td>\n",
       "      <td>Aysha 💋 Did you cheat? #ProtectWomen 💕🇺🇸🧬🥇</td>\n",
       "      <td>...</td>\n",
       "      <td>False</td>\n",
       "      <td>1159</td>\n",
       "      <td>32699.0</td>\n",
       "      <td>2</td>\n",
       "      <td>1688</td>\n",
       "      <td>indv</td>\n",
       "      <td>6.0</td>\n",
       "      <td>True</td>\n",
       "      <td>False</td>\n",
       "      <td>neutral</td>\n",
       "    </tr>\n",
       "    <tr>\n",
       "      <th>2</th>\n",
       "      <td>1548449627577282560</td>\n",
       "      <td>2022-07-16 23:28:54+00:00</td>\n",
       "      <td>2.194982e+09</td>\n",
       "      <td>@CBCNews Since Covid vaccines first became ava...</td>\n",
       "      <td>0</td>\n",
       "      <td>0</td>\n",
       "      <td>0</td>\n",
       "      <td>0</td>\n",
       "      <td>HaolinS</td>\n",
       "      <td>TSH</td>\n",
       "      <td>...</td>\n",
       "      <td>False</td>\n",
       "      <td>4</td>\n",
       "      <td>16803.0</td>\n",
       "      <td>26</td>\n",
       "      <td>54</td>\n",
       "      <td>org</td>\n",
       "      <td>0.0</td>\n",
       "      <td>False</td>\n",
       "      <td>False</td>\n",
       "      <td>negative</td>\n",
       "    </tr>\n",
       "    <tr>\n",
       "      <th>3</th>\n",
       "      <td>1539564861797142528</td>\n",
       "      <td>2022-06-22 11:04:01+00:00</td>\n",
       "      <td>3.637561e+08</td>\n",
       "      <td>@darji8114 @Gonzz70998539 Du sollst es dir nur...</td>\n",
       "      <td>0</td>\n",
       "      <td>0</td>\n",
       "      <td>4</td>\n",
       "      <td>0</td>\n",
       "      <td>Vanillekind</td>\n",
       "      <td>DieDrei!!!</td>\n",
       "      <td>...</td>\n",
       "      <td>False</td>\n",
       "      <td>217</td>\n",
       "      <td>3591.0</td>\n",
       "      <td>4</td>\n",
       "      <td>372</td>\n",
       "      <td>indv</td>\n",
       "      <td>11.0</td>\n",
       "      <td>False</td>\n",
       "      <td>False</td>\n",
       "      <td>neutral</td>\n",
       "    </tr>\n",
       "    <tr>\n",
       "      <th>4</th>\n",
       "      <td>1530811214053658624</td>\n",
       "      <td>2022-05-29 07:20:09+00:00</td>\n",
       "      <td>4.260665e+07</td>\n",
       "      <td>महिलाओं के पीरियड्स को लेकर IAS अफसर ने चलाया ...</td>\n",
       "      <td>9</td>\n",
       "      <td>0</td>\n",
       "      <td>122</td>\n",
       "      <td>0</td>\n",
       "      <td>aajtak</td>\n",
       "      <td>AajTak</td>\n",
       "      <td>...</td>\n",
       "      <td>True</td>\n",
       "      <td>18921459</td>\n",
       "      <td>727621.0</td>\n",
       "      <td>4</td>\n",
       "      <td>43</td>\n",
       "      <td>org</td>\n",
       "      <td>5108.0</td>\n",
       "      <td>False</td>\n",
       "      <td>False</td>\n",
       "      <td>neutral</td>\n",
       "    </tr>\n",
       "  </tbody>\n",
       "</table>\n",
       "<p>5 rows × 22 columns</p>\n",
       "</div>"
      ],
      "text/plain": [
       "              tweet_id                       time       user_id  \\\n",
       "0  1511835211692077058  2022-04-06 22:36:17+00:00  1.329283e+18   \n",
       "1  1501587893264998401  2022-03-09 15:57:06+00:00  1.308420e+18   \n",
       "2  1548449627577282560  2022-07-16 23:28:54+00:00  2.194982e+09   \n",
       "3  1539564861797142528  2022-06-22 11:04:01+00:00  3.637561e+08   \n",
       "4  1530811214053658624  2022-05-29 07:20:09+00:00  4.260665e+07   \n",
       "\n",
       "                                                text  retweet_count  \\\n",
       "0  @Margare19954289 I was shocked to discover how...              0   \n",
       "1  Me: cannot figure out why my skin is going nut...              0   \n",
       "2  @CBCNews Since Covid vaccines first became ava...              0   \n",
       "3  @darji8114 @Gonzz70998539 Du sollst es dir nur...              0   \n",
       "4  महिलाओं के पीरियड्स को लेकर IAS अफसर ने चलाया ...              9   \n",
       "\n",
       "   reply_count  like_count  quote_count         username  \\\n",
       "0            0           1            0  LeslieG03751183   \n",
       "1            1           1            0  ModelAyshaMirza   \n",
       "2            0           0            0          HaolinS   \n",
       "3            0           4            0      Vanillekind   \n",
       "4            0         122            0           aajtak   \n",
       "\n",
       "                                         name  ... verified followers_count  \\\n",
       "0       Leslie GG/ Cheeky Oma ☮️💖🙀🤭🤢🙄😷💚🇺🇦🙏🏻🇺🇦  ...    False             183   \n",
       "1  Aysha 💋 Did you cheat? #ProtectWomen 💕🇺🇸🧬🥇  ...    False            1159   \n",
       "2                                         TSH  ...    False               4   \n",
       "3                                  DieDrei!!!  ...    False             217   \n",
       "4                                      AajTak  ...     True        18921459   \n",
       "\n",
       "   tweet_count  tweets_SRH  following_count  user_type  listed_count  \\\n",
       "0       3868.0           1              129       indv           0.0   \n",
       "1      32699.0           2             1688       indv           6.0   \n",
       "2      16803.0          26               54        org           0.0   \n",
       "3       3591.0           4              372       indv          11.0   \n",
       "4     727621.0           4               43        org        5108.0   \n",
       "\n",
       "  period_tracking  data_concern  sentiment  \n",
       "0           False         False   negative  \n",
       "1            True         False    neutral  \n",
       "2           False         False   negative  \n",
       "3           False         False    neutral  \n",
       "4           False         False    neutral  \n",
       "\n",
       "[5 rows x 22 columns]"
      ]
     },
     "execution_count": 2,
     "metadata": {},
     "output_type": "execute_result"
    }
   ],
   "source": [
    "tweets = pd.read_csv('training_tweets.csv')\n",
    "tweets.head()"
   ]
  },
  {
   "cell_type": "markdown",
   "id": "f1327982",
   "metadata": {},
   "source": [
    "Here are the list of features we would like to determine:  \n",
    "\n",
    "Rita:  \n",
    "\n",
    "    1. Tweet frequency (tweets/week)\n",
    "    2. Followers/following ratio\n",
    "    3. Bio length, has emoji, has “organization, org, news, agency, institution”, vs “personal, I, my,”\n",
    "    4. Length of tweet text\n",
    "    \n",
    "Lan:        \n",
    "\n",
    "    5. Popularity: likes/followers, retweet/followers, replies/followers         \n",
    "    6. Tweet has url\n",
    "    7. Tweet has emoji\n",
    "    8. Number of exclamation mark in tweet content\n",
    "    9. Number of quotation mark in tweet content\n",
    "    10. Name has emoji\n",
    "    11. Listed count/followers\n",
    "    \n",
    "Along with preexisting features from the dataset:   \n",
    "\n",
    "    12. Tweet sentiment    \n",
    "    13. Frequency of tweets SRH\n",
    "    14. Verified status\n",
    "    15. Tweet reach: likes, replies, retweets count\n",
    "\n",
    "    "
   ]
  },
  {
   "cell_type": "markdown",
   "id": "ac6f7882",
   "metadata": {},
   "source": [
    "Functions to extract the features"
   ]
  },
  {
   "cell_type": "code",
   "execution_count": 3,
   "id": "91ef385a",
   "metadata": {},
   "outputs": [],
   "source": [
    "#count tweets/week ratio\n",
    "\n",
    "def tweet_frequency(start, end, tweet_count):\n",
    "   \n",
    "    #convert datatime series to nano-second\n",
    "    start = pd.to_datetime(start).to_datetime64()\n",
    "    end = pd.to_datetime(end).to_datetime64()\n",
    "    x = (end - start)\n",
    "    \n",
    "    #calculate the number of week\n",
    "    wk_num = np.ceil(x.astype(float) / (7*86400*1e9))\n",
    "   \n",
    "    #count divide number of weeks\n",
    "    return round(tweet_count/wk_num,2)\n",
    "\n",
    "#find if emoji is in text\n",
    "\n",
    "def has_emoji(text):\n",
    "    emoji_summary = adv.extract_emoji(str(text))\n",
    "    emoji_counts = emoji_summary['emoji_counts']\n",
    "    if (1 in emoji_counts):\n",
    "        return True\n",
    "    else:\n",
    "        return False\n",
    "    \n",
    "    \n",
    "#if text contains “organization, org, news, agency, institution”\n",
    "\n",
    "def contains_org_key(text):\n",
    "    if any(word in str(text).lower() for word in ['organization', 'org', 'news', 'agency', 'institution']):\n",
    "        return True\n",
    "    return False\n",
    "\n",
    "\n",
    "#if text contains “organization, org, news, agency”\n",
    "\n",
    "def contains_indv_key(text):\n",
    "    if any(word in str(text).lower() for word in ['personal', 'i', 'my']):\n",
    "        return True\n",
    "    return False        \n",
    "\n",
    "#if text contains url\n",
    "has_URL = lambda x: True if 'https:' in str(x) else False\n",
    "\n",
    "#number of exclaimation mark (\"no way?!?\" would have 3)\n",
    "num_exc = lambda x: sum(str(x).lower().count(c) for c in ['!', '?','@'])\n",
    "\n",
    "#number of quotation marks (assuming news would quote at a higher frequency)\n",
    "num_quote = lambda x: sum(str(x).lower().count(c) for c in ['\"']) \n",
    "\n",
    "length = lambda x: len(str(x))\n",
    "\n",
    "#ratio\n",
    "def log_ratio(a,b):\n",
    "    if b == 0:\n",
    "        return 0\n",
    "    ratio = np.divide(a, b)\n",
    "    if ratio == 0:\n",
    "        return 0\n",
    "    return np.log2(ratio)\n",
    "    "
   ]
  },
  {
   "cell_type": "code",
   "execution_count": 4,
   "id": "07726b32",
   "metadata": {},
   "outputs": [],
   "source": [
    "df = tweets"
   ]
  },
  {
   "cell_type": "markdown",
   "id": "c98a216f",
   "metadata": {},
   "source": [
    "Let's transform our training dataset"
   ]
  },
  {
   "cell_type": "code",
   "execution_count": 5,
   "id": "bb9425fd",
   "metadata": {},
   "outputs": [],
   "source": [
    "#1. Tweet frequency (tweets/week)\n",
    "df['tweet_freq']= df.apply(lambda x: tweet_frequency(x['created_at_y'], '2022-10-25', x['tweet_count']),axis=1)\n",
    "\n",
    "#2. followers/followings ratio\n",
    "df['followers/followings'] = df.apply(lambda x: log_ratio(x['followers_count'], x['following_count']), axis=1)\n",
    "# round(df['followers_count']/df['following_count']*1000,2)\n",
    "\n",
    "#3. Bio length, has emoji, has “organization, org, news, agency, institution”, vs “personal, i, my,”\n",
    "df['bio_len'] = df['description'].apply(length)\n",
    "# df['bio_has_emoji'] = df['description'].apply(has_emoji)\n",
    "df['bio_has_org'] = df['description'].apply(contains_org_key)\n",
    "df['bio_has_ind'] = df['description'].apply(contains_indv_key)\n",
    "\n",
    "4#. Tweet text length:\n",
    "df['tweet_len'] = df['text'].apply(length)\n",
    "\n",
    "#5. Popularity: likes/followers, retweet/followers, replies/followers   \n",
    "df['like/followers'] = df.apply(lambda x: log_ratio(x['like_count'], x['followers_count']), axis=1)\n",
    "df['rt/followers'] = df.apply(lambda x: log_ratio(x['retweet_count'], x['followers_count']), axis=1)\n",
    "df['rp/followers'] = df.apply(lambda x: log_ratio(x['reply_count'], x['followers_count']), axis=1)\n",
    "\n",
    "#6. Tweet has url\n",
    "df['tweet_has_url'] = df['text'].apply(has_URL)\n",
    "\n",
    "#7. Tweet has emoji\n",
    "# df['tweet_has_emoji'] = df['text'].apply(has_emoji)\n",
    "\n",
    "#8. Number of exclamation mark in tweet content\n",
    "df['num_exc'] = df['text'].apply(num_exc)\n",
    "\n",
    "#9. Number of quotation mark in tweet content\n",
    "df['num_qm'] = df['text'].apply(num_quote)\n",
    "\n",
    "#10. Name has emoji\n",
    "# df['name_has_emoji'] = df['name'].apply(has_emoji)\n",
    "\n",
    "#11. Listed count/followers\n",
    "df['listed/followers'] = df.apply(lambda x: log_ratio(x['listed_count'], x['followers_count']), axis=1)\n",
    "\n",
    "#12. Convert everything to 1 and 0\n",
    "df['verified'] = df['verified'].replace(True, 1)\n",
    "df['verified'] = df['verified'].replace(False, 0)"
   ]
  },
  {
   "cell_type": "markdown",
   "id": "c7888993",
   "metadata": {},
   "source": [
    "One final step at replacing indetermined values with 0"
   ]
  },
  {
   "cell_type": "code",
   "execution_count": 6,
   "id": "d7779e06",
   "metadata": {},
   "outputs": [
    {
     "data": {
      "text/html": [
       "<div>\n",
       "<style scoped>\n",
       "    .dataframe tbody tr th:only-of-type {\n",
       "        vertical-align: middle;\n",
       "    }\n",
       "\n",
       "    .dataframe tbody tr th {\n",
       "        vertical-align: top;\n",
       "    }\n",
       "\n",
       "    .dataframe thead th {\n",
       "        text-align: right;\n",
       "    }\n",
       "</style>\n",
       "<table border=\"1\" class=\"dataframe\">\n",
       "  <thead>\n",
       "    <tr style=\"text-align: right;\">\n",
       "      <th></th>\n",
       "      <th>tweet_id</th>\n",
       "      <th>time</th>\n",
       "      <th>user_id</th>\n",
       "      <th>text</th>\n",
       "      <th>retweet_count</th>\n",
       "      <th>reply_count</th>\n",
       "      <th>like_count</th>\n",
       "      <th>quote_count</th>\n",
       "      <th>username</th>\n",
       "      <th>name</th>\n",
       "      <th>...</th>\n",
       "      <th>bio_has_org</th>\n",
       "      <th>bio_has_ind</th>\n",
       "      <th>tweet_len</th>\n",
       "      <th>like/followers</th>\n",
       "      <th>rt/followers</th>\n",
       "      <th>rp/followers</th>\n",
       "      <th>tweet_has_url</th>\n",
       "      <th>num_exc</th>\n",
       "      <th>num_qm</th>\n",
       "      <th>listed/followers</th>\n",
       "    </tr>\n",
       "  </thead>\n",
       "  <tbody>\n",
       "    <tr>\n",
       "      <th>0</th>\n",
       "      <td>1511835211692077058</td>\n",
       "      <td>2022-04-06 22:36:17+00:00</td>\n",
       "      <td>1.329283e+18</td>\n",
       "      <td>@Margare19954289 I was shocked to discover how...</td>\n",
       "      <td>0</td>\n",
       "      <td>0</td>\n",
       "      <td>1</td>\n",
       "      <td>0</td>\n",
       "      <td>LeslieG03751183</td>\n",
       "      <td>Leslie GG/ Cheeky Oma ☮️💖🙀🤭🤢🙄😷💚🇺🇦🙏🏻🇺🇦</td>\n",
       "      <td>...</td>\n",
       "      <td>False</td>\n",
       "      <td>True</td>\n",
       "      <td>268</td>\n",
       "      <td>-7.515700</td>\n",
       "      <td>0.000000</td>\n",
       "      <td>0.000000</td>\n",
       "      <td>False</td>\n",
       "      <td>1</td>\n",
       "      <td>0</td>\n",
       "      <td>0.000000</td>\n",
       "    </tr>\n",
       "    <tr>\n",
       "      <th>1</th>\n",
       "      <td>1501587893264998401</td>\n",
       "      <td>2022-03-09 15:57:06+00:00</td>\n",
       "      <td>1.308420e+18</td>\n",
       "      <td>Me: cannot figure out why my skin is going nut...</td>\n",
       "      <td>0</td>\n",
       "      <td>1</td>\n",
       "      <td>1</td>\n",
       "      <td>0</td>\n",
       "      <td>ModelAyshaMirza</td>\n",
       "      <td>Aysha 💋 Did you cheat? #ProtectWomen 💕🇺🇸🧬🥇</td>\n",
       "      <td>...</td>\n",
       "      <td>False</td>\n",
       "      <td>True</td>\n",
       "      <td>151</td>\n",
       "      <td>-10.178665</td>\n",
       "      <td>0.000000</td>\n",
       "      <td>-10.178665</td>\n",
       "      <td>False</td>\n",
       "      <td>1</td>\n",
       "      <td>0</td>\n",
       "      <td>-7.593702</td>\n",
       "    </tr>\n",
       "    <tr>\n",
       "      <th>2</th>\n",
       "      <td>1548449627577282560</td>\n",
       "      <td>2022-07-16 23:28:54+00:00</td>\n",
       "      <td>2.194982e+09</td>\n",
       "      <td>@CBCNews Since Covid vaccines first became ava...</td>\n",
       "      <td>0</td>\n",
       "      <td>0</td>\n",
       "      <td>0</td>\n",
       "      <td>0</td>\n",
       "      <td>HaolinS</td>\n",
       "      <td>TSH</td>\n",
       "      <td>...</td>\n",
       "      <td>False</td>\n",
       "      <td>False</td>\n",
       "      <td>196</td>\n",
       "      <td>0.000000</td>\n",
       "      <td>0.000000</td>\n",
       "      <td>0.000000</td>\n",
       "      <td>True</td>\n",
       "      <td>1</td>\n",
       "      <td>0</td>\n",
       "      <td>0.000000</td>\n",
       "    </tr>\n",
       "    <tr>\n",
       "      <th>3</th>\n",
       "      <td>1539564861797142528</td>\n",
       "      <td>2022-06-22 11:04:01+00:00</td>\n",
       "      <td>3.637561e+08</td>\n",
       "      <td>@darji8114 @Gonzz70998539 Du sollst es dir nur...</td>\n",
       "      <td>0</td>\n",
       "      <td>0</td>\n",
       "      <td>4</td>\n",
       "      <td>0</td>\n",
       "      <td>Vanillekind</td>\n",
       "      <td>DieDrei!!!</td>\n",
       "      <td>...</td>\n",
       "      <td>False</td>\n",
       "      <td>True</td>\n",
       "      <td>154</td>\n",
       "      <td>-5.761551</td>\n",
       "      <td>0.000000</td>\n",
       "      <td>0.000000</td>\n",
       "      <td>False</td>\n",
       "      <td>2</td>\n",
       "      <td>0</td>\n",
       "      <td>-4.302120</td>\n",
       "    </tr>\n",
       "    <tr>\n",
       "      <th>4</th>\n",
       "      <td>1530811214053658624</td>\n",
       "      <td>2022-05-29 07:20:09+00:00</td>\n",
       "      <td>4.260665e+07</td>\n",
       "      <td>महिलाओं के पीरियड्स को लेकर IAS अफसर ने चलाया ...</td>\n",
       "      <td>9</td>\n",
       "      <td>0</td>\n",
       "      <td>122</td>\n",
       "      <td>0</td>\n",
       "      <td>aajtak</td>\n",
       "      <td>AajTak</td>\n",
       "      <td>...</td>\n",
       "      <td>True</td>\n",
       "      <td>True</td>\n",
       "      <td>87</td>\n",
       "      <td>-17.242783</td>\n",
       "      <td>-21.003595</td>\n",
       "      <td>0.000000</td>\n",
       "      <td>True</td>\n",
       "      <td>0</td>\n",
       "      <td>0</td>\n",
       "      <td>-11.854977</td>\n",
       "    </tr>\n",
       "  </tbody>\n",
       "</table>\n",
       "<p>5 rows × 35 columns</p>\n",
       "</div>"
      ],
      "text/plain": [
       "              tweet_id                       time       user_id  \\\n",
       "0  1511835211692077058  2022-04-06 22:36:17+00:00  1.329283e+18   \n",
       "1  1501587893264998401  2022-03-09 15:57:06+00:00  1.308420e+18   \n",
       "2  1548449627577282560  2022-07-16 23:28:54+00:00  2.194982e+09   \n",
       "3  1539564861797142528  2022-06-22 11:04:01+00:00  3.637561e+08   \n",
       "4  1530811214053658624  2022-05-29 07:20:09+00:00  4.260665e+07   \n",
       "\n",
       "                                                text  retweet_count  \\\n",
       "0  @Margare19954289 I was shocked to discover how...              0   \n",
       "1  Me: cannot figure out why my skin is going nut...              0   \n",
       "2  @CBCNews Since Covid vaccines first became ava...              0   \n",
       "3  @darji8114 @Gonzz70998539 Du sollst es dir nur...              0   \n",
       "4  महिलाओं के पीरियड्स को लेकर IAS अफसर ने चलाया ...              9   \n",
       "\n",
       "   reply_count  like_count  quote_count         username  \\\n",
       "0            0           1            0  LeslieG03751183   \n",
       "1            1           1            0  ModelAyshaMirza   \n",
       "2            0           0            0          HaolinS   \n",
       "3            0           4            0      Vanillekind   \n",
       "4            0         122            0           aajtak   \n",
       "\n",
       "                                         name  ... bio_has_org bio_has_ind  \\\n",
       "0       Leslie GG/ Cheeky Oma ☮️💖🙀🤭🤢🙄😷💚🇺🇦🙏🏻🇺🇦  ...       False        True   \n",
       "1  Aysha 💋 Did you cheat? #ProtectWomen 💕🇺🇸🧬🥇  ...       False        True   \n",
       "2                                         TSH  ...       False       False   \n",
       "3                                  DieDrei!!!  ...       False        True   \n",
       "4                                      AajTak  ...        True        True   \n",
       "\n",
       "   tweet_len  like/followers  rt/followers  rp/followers  tweet_has_url  \\\n",
       "0        268       -7.515700      0.000000      0.000000          False   \n",
       "1        151      -10.178665      0.000000    -10.178665          False   \n",
       "2        196        0.000000      0.000000      0.000000           True   \n",
       "3        154       -5.761551      0.000000      0.000000          False   \n",
       "4         87      -17.242783    -21.003595      0.000000           True   \n",
       "\n",
       "  num_exc  num_qm  listed/followers  \n",
       "0       1       0          0.000000  \n",
       "1       1       0         -7.593702  \n",
       "2       1       0          0.000000  \n",
       "3       2       0         -4.302120  \n",
       "4       0       0        -11.854977  \n",
       "\n",
       "[5 rows x 35 columns]"
      ]
     },
     "execution_count": 6,
     "metadata": {},
     "output_type": "execute_result"
    }
   ],
   "source": [
    "df.replace([np.inf, -np.inf], 0, inplace=True)\n",
    "df.replace(np.nan, 0)\n",
    "df.head()"
   ]
  },
  {
   "cell_type": "markdown",
   "id": "e48205bf",
   "metadata": {},
   "source": [
    "### 2. Determining user type"
   ]
  },
  {
   "cell_type": "markdown",
   "id": "dbb5e490",
   "metadata": {},
   "source": [
    "We will be testing out these classifiers with the features we extracted \n",
    "\n",
    "    1. Linear SVC\n",
    "    2. K-nn \n",
    "    3. Random forest, and Linear SVC "
   ]
  },
  {
   "cell_type": "markdown",
   "id": "ccde80dd",
   "metadata": {},
   "source": [
    "But first, let's check for imbalance between the different classes"
   ]
  },
  {
   "cell_type": "code",
   "execution_count": 7,
   "id": "af058914",
   "metadata": {},
   "outputs": [
    {
     "name": "stdout",
     "output_type": "stream",
     "text": [
      "Number of accounts that belong to organizations is: (417, 35)\n",
      "Number of accounts that belong to individuals is: (2554, 35)\n",
      "Number of accounts that belong to bots is: (28, 35)\n"
     ]
    }
   ],
   "source": [
    "orgs = df.loc[tweets['user_type']=='org']\n",
    "indvs = df.loc[tweets['user_type']=='indv']\n",
    "bot = df.loc[tweets['user_type']=='bot']\n",
    "print(f\"Number of accounts that belong to organizations is: {orgs.shape}\")\n",
    "print(f\"Number of accounts that belong to individuals is: {indvs.shape}\")\n",
    "print(f\"Number of accounts that belong to bots is: {bot.shape}\")"
   ]
  },
  {
   "cell_type": "markdown",
   "id": "abcb8949",
   "metadata": {},
   "source": [
    "There's a clear imbalance in between the classes. To address this imbalance, we will oversample the minority class that is \"orgs\" and undersample majority class that is \"indvs\". The proportion of bot is insignicant, so we will assump that it is not accounted in the datset and sample 300 rows from each class. "
   ]
  },
  {
   "cell_type": "code",
   "execution_count": 8,
   "id": "7e8b4a46",
   "metadata": {},
   "outputs": [],
   "source": [
    "import random\n",
    "\n",
    "random.seed(625814)\n",
    "\n",
    "o_index = list(orgs.index)\n",
    "i_index = list(indvs.index)"
   ]
  },
  {
   "cell_type": "markdown",
   "id": "165867b9",
   "metadata": {},
   "source": [
    "Helper function for randomly partitioning the training dataset:"
   ]
  },
  {
   "cell_type": "code",
   "execution_count": 9,
   "id": "5c893d33",
   "metadata": {},
   "outputs": [
    {
     "name": "stdout",
     "output_type": "stream",
     "text": [
      "600\n"
     ]
    }
   ],
   "source": [
    "\n",
    "# def get_indices(x, y):\n",
    "indices_org_train = random.sample(o_index, 300)\n",
    "indices_indv_train = random.sample(i_index, 300)\n",
    "\n",
    "indices_org_test = [index for index in o_index  if index not in indices_org_train]\n",
    "indices_indv_test = [index for index in i_index if index not in indices_indv_train]\n",
    "\n",
    "\n",
    "indices_org_train.extend(indices_indv_train) #indices for training\n",
    "indices_org_test.extend(indices_indv_test) #indices for testing\n",
    "print(len(indices_org_train))\n"
   ]
  },
  {
   "cell_type": "markdown",
   "id": "846b80ba",
   "metadata": {},
   "source": [
    "Extracting desired features:"
   ]
  },
  {
   "cell_type": "code",
   "execution_count": 10,
   "id": "5f40e97e",
   "metadata": {},
   "outputs": [],
   "source": [
    "data = df[['user_type','retweet_count', 'reply_count',\n",
    "       'like_count', 'quote_count', 'verified', 'followers_count', 'tweets_SRH', \n",
    "        'following_count', 'listed_count', 'tweet_freq', \n",
    "       'followers/followings', 'bio_len', \n",
    "       'bio_has_org','bio_has_ind', 'tweet_len', 'like/followers', 'rt/followers',\n",
    "       'rp/followers', 'tweet_has_url', \n",
    "        'num_exc', 'num_qm', 'listed/followers']].reset_index(drop = 'True')"
   ]
  },
  {
   "cell_type": "markdown",
   "id": "712afc8d",
   "metadata": {},
   "source": [
    "Separating the features and labels"
   ]
  },
  {
   "cell_type": "code",
   "execution_count": 11,
   "id": "c7c7ba21",
   "metadata": {},
   "outputs": [],
   "source": [
    "features = data.iloc[:,1:]\n",
    "labels = data['user_type']"
   ]
  },
  {
   "cell_type": "markdown",
   "id": "d0f0a6dd",
   "metadata": {},
   "source": [
    "One hot encoding"
   ]
  },
  {
   "cell_type": "code",
   "execution_count": 12,
   "id": "e0bfe295",
   "metadata": {},
   "outputs": [],
   "source": [
    "import sklearn\n",
    "from sklearn.feature_extraction import DictVectorizer\n",
    "\n",
    "vec = DictVectorizer(sparse = False, dtype = float)\n",
    "x = vec.fit_transform(features.to_dict('record'))\n",
    "dfVectors = pd.DataFrame(x, columns = vec.get_feature_names())"
   ]
  },
  {
   "cell_type": "markdown",
   "id": "a4c62209",
   "metadata": {},
   "source": [
    "Getting our training and testing dataset"
   ]
  },
  {
   "cell_type": "code",
   "execution_count": 13,
   "id": "72e8c411",
   "metadata": {},
   "outputs": [],
   "source": [
    "X_train = dfVectors.iloc[indices_org_train].fillna(0)\n",
    "y_train = labels.iloc[indices_org_train]\n",
    "\n",
    "X_test = dfVectors.iloc[indices_org_test].fillna(0)\n",
    "y_test = labels.iloc[indices_org_test]"
   ]
  },
  {
   "cell_type": "markdown",
   "id": "9107e6a0",
   "metadata": {},
   "source": [
    "Now we are ready to train our classifiers"
   ]
  },
  {
   "cell_type": "markdown",
   "id": "858be207",
   "metadata": {},
   "source": [
    "#### a. Linear SVC"
   ]
  },
  {
   "cell_type": "code",
   "execution_count": 14,
   "id": "5e85e777",
   "metadata": {},
   "outputs": [],
   "source": [
    "from sklearn import svm\n",
    "from sklearn.svm import SVC\n",
    "from sklearn.multioutput import MultiOutputClassifier\n",
    "from sklearn.model_selection import train_test_split\n",
    "from sklearn.model_selection import cross_val_score\n",
    "from sklearn.metrics import confusion_matrix\n",
    "from sklearn.metrics import classification_report\n",
    "from sklearn.metrics import accuracy_score\n",
    "from sklearn.preprocessing import StandardScaler\n",
    "from sklearn.linear_model import SGDClassifier\n",
    "import matplotlib.pyplot as plt"
   ]
  },
  {
   "cell_type": "markdown",
   "id": "decf2d6f",
   "metadata": {},
   "source": [
    "Testing out Linear SVC"
   ]
  },
  {
   "cell_type": "code",
   "execution_count": 15,
   "id": "b61d3b32",
   "metadata": {},
   "outputs": [
    {
     "name": "stdout",
     "output_type": "stream",
     "text": [
      "Accuracy: 0.739\n"
     ]
    }
   ],
   "source": [
    "sc = StandardScaler()\n",
    "sc.fit(X_train)\n",
    "X_train_std = sc.transform(X_train)\n",
    "X_test_std = sc.transform(X_test)\n",
    "\n",
    "\n",
    "# Training a SVM classifier using SVC class\n",
    "sdg = SGDClassifier(loss=\"log\", penalty=\"l2\")\n",
    "sdg.fit(X_train_std, y_train)\n",
    " \n",
    "# Mode performance\n",
    " \n",
    "y_pred = sdg.predict(X_test_std)\n",
    "print('Accuracy: %.3f' % accuracy_score(y_test, y_pred))"
   ]
  },
  {
   "cell_type": "markdown",
   "id": "658aa8d5",
   "metadata": {},
   "source": [
    "Improving the classifier using Grid search"
   ]
  },
  {
   "cell_type": "code",
   "execution_count": 16,
   "id": "422a9cda",
   "metadata": {},
   "outputs": [],
   "source": [
    "from sklearn.model_selection import GridSearchCV"
   ]
  },
  {
   "cell_type": "code",
   "execution_count": 17,
   "id": "50c7da95",
   "metadata": {},
   "outputs": [
    {
     "name": "stdout",
     "output_type": "stream",
     "text": [
      "{'alpha': 0.1, 'loss': 'log', 'penalty': 'l2'}\n"
     ]
    }
   ],
   "source": [
    "params = {\n",
    "    \"loss\" : [\"hinge\", \"log\", \"squared_hinge\", \"modified_huber\", \"perceptron\"],\n",
    "    \"alpha\" : [0.0001, 0.001, 0.01, 0.1],\n",
    "    \"penalty\" : [\"l2\", \"l1\", \"elasticnet\", \"none\"],\n",
    "}\n",
    "\n",
    "sdg = SGDClassifier(max_iter=1000)\n",
    "grid = GridSearchCV(sdg, param_grid=params, cv=10)\n",
    "\n",
    "\n",
    "grid.fit(X_train_std, y_train)\n",
    "\n",
    "print(grid.best_params_) "
   ]
  },
  {
   "cell_type": "markdown",
   "id": "6a8061e7",
   "metadata": {},
   "source": [
    "Refitting our model with the new parameters"
   ]
  },
  {
   "cell_type": "code",
   "execution_count": 18,
   "id": "0d2ae26e",
   "metadata": {},
   "outputs": [
    {
     "name": "stdout",
     "output_type": "stream",
     "text": [
      "Accuracy: 0.76\n"
     ]
    }
   ],
   "source": [
    "grid_predictions = grid.predict(X_test_std) \n",
    "\n",
    "print('Accuracy: {:.2f}'.format(accuracy_score(y_test, grid_predictions)))\n"
   ]
  },
  {
   "cell_type": "code",
   "execution_count": 19,
   "id": "8032fe54",
   "metadata": {},
   "outputs": [],
   "source": [
    "from sklearn.metrics import plot_confusion_matrix\n",
    "import matplotlib.pyplot as plt\n"
   ]
  },
  {
   "cell_type": "code",
   "execution_count": 20,
   "id": "eec74090",
   "metadata": {},
   "outputs": [
    {
     "data": {
      "image/png": "[encoded data removed]",
      "text/plain": [
       "<Figure size 640x480 with 2 Axes>"
      ]
     },
     "metadata": {},
     "output_type": "display_data"
    }
   ],
   "source": [
    "plot_confusion_matrix(grid, X_test_std, y_test)  \n",
    "plt.show()"
   ]
  },
  {
   "cell_type": "markdown",
   "id": "25bce730",
   "metadata": {},
   "source": [
    "The classifier is classifying a lot of individual account as orgs"
   ]
  },
  {
   "cell_type": "markdown",
   "id": "1b1c43af",
   "metadata": {},
   "source": [
    "#### b. Using k-nn"
   ]
  },
  {
   "cell_type": "code",
   "execution_count": 21,
   "id": "1fde7343",
   "metadata": {},
   "outputs": [
    {
     "data": {
      "text/html": [
       "<style>#sk-container-id-1 {color: black;background-color: white;}#sk-container-id-1 pre{padding: 0;}#sk-container-id-1 div.sk-toggleable {background-color: white;}#sk-container-id-1 label.sk-toggleable__label {cursor: pointer;display: block;width: 100%;margin-bottom: 0;padding: 0.3em;box-sizing: border-box;text-align: center;}#sk-container-id-1 label.sk-toggleable__label-arrow:before {content: \"▸\";float: left;margin-right: 0.25em;color: #696969;}#sk-container-id-1 label.sk-toggleable__label-arrow:hover:before {color: black;}#sk-container-id-1 div.sk-estimator:hover label.sk-toggleable__label-arrow:before {color: black;}#sk-container-id-1 div.sk-toggleable__content {max-height: 0;max-width: 0;overflow: hidden;text-align: left;background-color: #f0f8ff;}#sk-container-id-1 div.sk-toggleable__content pre {margin: 0.2em;color: black;border-radius: 0.25em;background-color: #f0f8ff;}#sk-container-id-1 input.sk-toggleable__control:checked~div.sk-toggleable__content {max-height: 200px;max-width: 100%;overflow: auto;}#sk-container-id-1 input.sk-toggleable__control:checked~label.sk-toggleable__label-arrow:before {content: \"▾\";}#sk-container-id-1 div.sk-estimator input.sk-toggleable__control:checked~label.sk-toggleable__label {background-color: #d4ebff;}#sk-container-id-1 div.sk-label input.sk-toggleable__control:checked~label.sk-toggleable__label {background-color: #d4ebff;}#sk-container-id-1 input.sk-hidden--visually {border: 0;clip: rect(1px 1px 1px 1px);clip: rect(1px, 1px, 1px, 1px);height: 1px;margin: -1px;overflow: hidden;padding: 0;position: absolute;width: 1px;}#sk-container-id-1 div.sk-estimator {font-family: monospace;background-color: #f0f8ff;border: 1px dotted black;border-radius: 0.25em;box-sizing: border-box;margin-bottom: 0.5em;}#sk-container-id-1 div.sk-estimator:hover {background-color: #d4ebff;}#sk-container-id-1 div.sk-parallel-item::after {content: \"\";width: 100%;border-bottom: 1px solid gray;flex-grow: 1;}#sk-container-id-1 div.sk-label:hover label.sk-toggleable__label {background-color: #d4ebff;}#sk-container-id-1 div.sk-serial::before {content: \"\";position: absolute;border-left: 1px solid gray;box-sizing: border-box;top: 0;bottom: 0;left: 50%;z-index: 0;}#sk-container-id-1 div.sk-serial {display: flex;flex-direction: column;align-items: center;background-color: white;padding-right: 0.2em;padding-left: 0.2em;position: relative;}#sk-container-id-1 div.sk-item {position: relative;z-index: 1;}#sk-container-id-1 div.sk-parallel {display: flex;align-items: stretch;justify-content: center;background-color: white;position: relative;}#sk-container-id-1 div.sk-item::before, #sk-container-id-1 div.sk-parallel-item::before {content: \"\";position: absolute;border-left: 1px solid gray;box-sizing: border-box;top: 0;bottom: 0;left: 50%;z-index: -1;}#sk-container-id-1 div.sk-parallel-item {display: flex;flex-direction: column;z-index: 1;position: relative;background-color: white;}#sk-container-id-1 div.sk-parallel-item:first-child::after {align-self: flex-end;width: 50%;}#sk-container-id-1 div.sk-parallel-item:last-child::after {align-self: flex-start;width: 50%;}#sk-container-id-1 div.sk-parallel-item:only-child::after {width: 0;}#sk-container-id-1 div.sk-dashed-wrapped {border: 1px dashed gray;margin: 0 0.4em 0.5em 0.4em;box-sizing: border-box;padding-bottom: 0.4em;background-color: white;}#sk-container-id-1 div.sk-label label {font-family: monospace;font-weight: bold;display: inline-block;line-height: 1.2em;}#sk-container-id-1 div.sk-label-container {text-align: center;}#sk-container-id-1 div.sk-container {/* jupyter's `normalize.less` sets `[hidden] { display: none; }` but bootstrap.min.css set `[hidden] { display: none !important; }` so we also need the `!important` here to be able to override the default hidden behavior on the sphinx rendered scikit-learn.org. See: https://github.com/scikit-learn/scikit-learn/issues/21755 */display: inline-block !important;position: relative;}#sk-container-id-1 div.sk-text-repr-fallback {display: none;}</style><div id=\"sk-container-id-1\" class=\"sk-top-container\"><div class=\"sk-text-repr-fallback\"><pre>KNeighborsClassifier()</pre><b>In a Jupyter environment, please rerun this cell to show the HTML representation or trust the notebook. <br />On GitHub, the HTML representation is unable to render, please try loading this page with nbviewer.org.</b></div><div class=\"sk-container\" hidden><div class=\"sk-item\"><div class=\"sk-estimator sk-toggleable\"><input class=\"sk-toggleable__control sk-hidden--visually\" id=\"sk-estimator-id-1\" type=\"checkbox\" checked><label for=\"sk-estimator-id-1\" class=\"sk-toggleable__label sk-toggleable__label-arrow\">KNeighborsClassifier</label><div class=\"sk-toggleable__content\"><pre>KNeighborsClassifier()</pre></div></div></div></div></div>"
      ],
      "text/plain": [
       "KNeighborsClassifier()"
      ]
     },
     "execution_count": 21,
     "metadata": {},
     "output_type": "execute_result"
    }
   ],
   "source": [
    "from sklearn import neighbors\n",
    "knn = neighbors.KNeighborsClassifier() \n",
    "knn"
   ]
  },
  {
   "cell_type": "code",
   "execution_count": 22,
   "id": "fc0700e6",
   "metadata": {},
   "outputs": [
    {
     "data": {
      "text/plain": [
       "0.6824124841838887"
      ]
     },
     "execution_count": 22,
     "metadata": {},
     "output_type": "execute_result"
    }
   ],
   "source": [
    "knn.fit(X_train, y_train) \n",
    "knn.score(X_test, y_test) "
   ]
  },
  {
   "cell_type": "markdown",
   "id": "e1b027f2",
   "metadata": {},
   "source": [
    "Grid search for k-nn"
   ]
  },
  {
   "cell_type": "code",
   "execution_count": 23,
   "id": "a4c6872f",
   "metadata": {},
   "outputs": [],
   "source": [
    "grid_params = {'n_neighbors': [3, 5, 7, 9, 11, 13, 15],    \n",
    "               'weights': ['uniform', 'distance'], \n",
    "               'metric': ['euclidean', 'cosine']\n",
    "              }"
   ]
  },
  {
   "cell_type": "code",
   "execution_count": 24,
   "id": "342839b3",
   "metadata": {},
   "outputs": [],
   "source": [
    "from sklearn.model_selection import GridSearchCV\n",
    "\n",
    "gs = GridSearchCV(\n",
    "    neighbors.KNeighborsClassifier(),\n",
    "    grid_params,\n",
    "    verbose=1,         # print output while working \n",
    "    cv=3               # number of folds for cross-validation \n",
    ")"
   ]
  },
  {
   "cell_type": "code",
   "execution_count": 25,
   "id": "ff8a0021",
   "metadata": {},
   "outputs": [
    {
     "name": "stdout",
     "output_type": "stream",
     "text": [
      "Fitting 3 folds for each of 28 candidates, totalling 84 fits\n"
     ]
    }
   ],
   "source": [
    "gs_results = gs.fit(X_train, y_train)"
   ]
  },
  {
   "cell_type": "code",
   "execution_count": 26,
   "id": "b2ed5f29",
   "metadata": {},
   "outputs": [
    {
     "data": {
      "text/plain": [
       "0.695"
      ]
     },
     "execution_count": 26,
     "metadata": {},
     "output_type": "execute_result"
    }
   ],
   "source": [
    "gs_results.best_score_"
   ]
  },
  {
   "cell_type": "code",
   "execution_count": 27,
   "id": "6b6dce58",
   "metadata": {},
   "outputs": [
    {
     "data": {
      "text/html": [
       "<style>#sk-container-id-2 {color: black;background-color: white;}#sk-container-id-2 pre{padding: 0;}#sk-container-id-2 div.sk-toggleable {background-color: white;}#sk-container-id-2 label.sk-toggleable__label {cursor: pointer;display: block;width: 100%;margin-bottom: 0;padding: 0.3em;box-sizing: border-box;text-align: center;}#sk-container-id-2 label.sk-toggleable__label-arrow:before {content: \"▸\";float: left;margin-right: 0.25em;color: #696969;}#sk-container-id-2 label.sk-toggleable__label-arrow:hover:before {color: black;}#sk-container-id-2 div.sk-estimator:hover label.sk-toggleable__label-arrow:before {color: black;}#sk-container-id-2 div.sk-toggleable__content {max-height: 0;max-width: 0;overflow: hidden;text-align: left;background-color: #f0f8ff;}#sk-container-id-2 div.sk-toggleable__content pre {margin: 0.2em;color: black;border-radius: 0.25em;background-color: #f0f8ff;}#sk-container-id-2 input.sk-toggleable__control:checked~div.sk-toggleable__content {max-height: 200px;max-width: 100%;overflow: auto;}#sk-container-id-2 input.sk-toggleable__control:checked~label.sk-toggleable__label-arrow:before {content: \"▾\";}#sk-container-id-2 div.sk-estimator input.sk-toggleable__control:checked~label.sk-toggleable__label {background-color: #d4ebff;}#sk-container-id-2 div.sk-label input.sk-toggleable__control:checked~label.sk-toggleable__label {background-color: #d4ebff;}#sk-container-id-2 input.sk-hidden--visually {border: 0;clip: rect(1px 1px 1px 1px);clip: rect(1px, 1px, 1px, 1px);height: 1px;margin: -1px;overflow: hidden;padding: 0;position: absolute;width: 1px;}#sk-container-id-2 div.sk-estimator {font-family: monospace;background-color: #f0f8ff;border: 1px dotted black;border-radius: 0.25em;box-sizing: border-box;margin-bottom: 0.5em;}#sk-container-id-2 div.sk-estimator:hover {background-color: #d4ebff;}#sk-container-id-2 div.sk-parallel-item::after {content: \"\";width: 100%;border-bottom: 1px solid gray;flex-grow: 1;}#sk-container-id-2 div.sk-label:hover label.sk-toggleable__label {background-color: #d4ebff;}#sk-container-id-2 div.sk-serial::before {content: \"\";position: absolute;border-left: 1px solid gray;box-sizing: border-box;top: 0;bottom: 0;left: 50%;z-index: 0;}#sk-container-id-2 div.sk-serial {display: flex;flex-direction: column;align-items: center;background-color: white;padding-right: 0.2em;padding-left: 0.2em;position: relative;}#sk-container-id-2 div.sk-item {position: relative;z-index: 1;}#sk-container-id-2 div.sk-parallel {display: flex;align-items: stretch;justify-content: center;background-color: white;position: relative;}#sk-container-id-2 div.sk-item::before, #sk-container-id-2 div.sk-parallel-item::before {content: \"\";position: absolute;border-left: 1px solid gray;box-sizing: border-box;top: 0;bottom: 0;left: 50%;z-index: -1;}#sk-container-id-2 div.sk-parallel-item {display: flex;flex-direction: column;z-index: 1;position: relative;background-color: white;}#sk-container-id-2 div.sk-parallel-item:first-child::after {align-self: flex-end;width: 50%;}#sk-container-id-2 div.sk-parallel-item:last-child::after {align-self: flex-start;width: 50%;}#sk-container-id-2 div.sk-parallel-item:only-child::after {width: 0;}#sk-container-id-2 div.sk-dashed-wrapped {border: 1px dashed gray;margin: 0 0.4em 0.5em 0.4em;box-sizing: border-box;padding-bottom: 0.4em;background-color: white;}#sk-container-id-2 div.sk-label label {font-family: monospace;font-weight: bold;display: inline-block;line-height: 1.2em;}#sk-container-id-2 div.sk-label-container {text-align: center;}#sk-container-id-2 div.sk-container {/* jupyter's `normalize.less` sets `[hidden] { display: none; }` but bootstrap.min.css set `[hidden] { display: none !important; }` so we also need the `!important` here to be able to override the default hidden behavior on the sphinx rendered scikit-learn.org. See: https://github.com/scikit-learn/scikit-learn/issues/21755 */display: inline-block !important;position: relative;}#sk-container-id-2 div.sk-text-repr-fallback {display: none;}</style><div id=\"sk-container-id-2\" class=\"sk-top-container\"><div class=\"sk-text-repr-fallback\"><pre>KNeighborsClassifier(metric=&#x27;cosine&#x27;, n_neighbors=7, weights=&#x27;distance&#x27;)</pre><b>In a Jupyter environment, please rerun this cell to show the HTML representation or trust the notebook. <br />On GitHub, the HTML representation is unable to render, please try loading this page with nbviewer.org.</b></div><div class=\"sk-container\" hidden><div class=\"sk-item\"><div class=\"sk-estimator sk-toggleable\"><input class=\"sk-toggleable__control sk-hidden--visually\" id=\"sk-estimator-id-2\" type=\"checkbox\" checked><label for=\"sk-estimator-id-2\" class=\"sk-toggleable__label sk-toggleable__label-arrow\">KNeighborsClassifier</label><div class=\"sk-toggleable__content\"><pre>KNeighborsClassifier(metric=&#x27;cosine&#x27;, n_neighbors=7, weights=&#x27;distance&#x27;)</pre></div></div></div></div></div>"
      ],
      "text/plain": [
       "KNeighborsClassifier(metric='cosine', n_neighbors=7, weights='distance')"
      ]
     },
     "execution_count": 27,
     "metadata": {},
     "output_type": "execute_result"
    }
   ],
   "source": [
    "gs_results.best_estimator_"
   ]
  },
  {
   "cell_type": "code",
   "execution_count": 28,
   "id": "62d481c9",
   "metadata": {},
   "outputs": [
    {
     "data": {
      "text/plain": [
       "{'metric': 'cosine', 'n_neighbors': 7, 'weights': 'distance'}"
      ]
     },
     "execution_count": 28,
     "metadata": {},
     "output_type": "execute_result"
    }
   ],
   "source": [
    "gs_results.best_params_"
   ]
  },
  {
   "cell_type": "markdown",
   "id": "f4e39a12",
   "metadata": {},
   "source": [
    "Let's see where the algorithm is making the mistake"
   ]
  },
  {
   "cell_type": "code",
   "execution_count": 29,
   "id": "e3c38e55",
   "metadata": {},
   "outputs": [
    {
     "data": {
      "image/png": "[encoded data removed]",
      "text/plain": [
       "<Figure size 640x480 with 2 Axes>"
      ]
     },
     "metadata": {},
     "output_type": "display_data"
    }
   ],
   "source": [
    "plot_confusion_matrix(gs_results, X_test, y_test)  \n",
    "plt.show()"
   ]
  },
  {
   "cell_type": "markdown",
   "id": "fdc29452",
   "metadata": {},
   "source": [
    "We see the same problem happen here"
   ]
  },
  {
   "cell_type": "markdown",
   "id": "43249b01",
   "metadata": {},
   "source": [
    "#### c. Random Forest"
   ]
  },
  {
   "cell_type": "code",
   "execution_count": 30,
   "id": "e69c7fd7",
   "metadata": {},
   "outputs": [],
   "source": [
    "from sklearn.ensemble import RandomForestClassifier"
   ]
  },
  {
   "cell_type": "code",
   "execution_count": 31,
   "id": "f3710589",
   "metadata": {},
   "outputs": [
    {
     "data": {
      "text/html": [
       "<style>#sk-container-id-3 {color: black;background-color: white;}#sk-container-id-3 pre{padding: 0;}#sk-container-id-3 div.sk-toggleable {background-color: white;}#sk-container-id-3 label.sk-toggleable__label {cursor: pointer;display: block;width: 100%;margin-bottom: 0;padding: 0.3em;box-sizing: border-box;text-align: center;}#sk-container-id-3 label.sk-toggleable__label-arrow:before {content: \"▸\";float: left;margin-right: 0.25em;color: #696969;}#sk-container-id-3 label.sk-toggleable__label-arrow:hover:before {color: black;}#sk-container-id-3 div.sk-estimator:hover label.sk-toggleable__label-arrow:before {color: black;}#sk-container-id-3 div.sk-toggleable__content {max-height: 0;max-width: 0;overflow: hidden;text-align: left;background-color: #f0f8ff;}#sk-container-id-3 div.sk-toggleable__content pre {margin: 0.2em;color: black;border-radius: 0.25em;background-color: #f0f8ff;}#sk-container-id-3 input.sk-toggleable__control:checked~div.sk-toggleable__content {max-height: 200px;max-width: 100%;overflow: auto;}#sk-container-id-3 input.sk-toggleable__control:checked~label.sk-toggleable__label-arrow:before {content: \"▾\";}#sk-container-id-3 div.sk-estimator input.sk-toggleable__control:checked~label.sk-toggleable__label {background-color: #d4ebff;}#sk-container-id-3 div.sk-label input.sk-toggleable__control:checked~label.sk-toggleable__label {background-color: #d4ebff;}#sk-container-id-3 input.sk-hidden--visually {border: 0;clip: rect(1px 1px 1px 1px);clip: rect(1px, 1px, 1px, 1px);height: 1px;margin: -1px;overflow: hidden;padding: 0;position: absolute;width: 1px;}#sk-container-id-3 div.sk-estimator {font-family: monospace;background-color: #f0f8ff;border: 1px dotted black;border-radius: 0.25em;box-sizing: border-box;margin-bottom: 0.5em;}#sk-container-id-3 div.sk-estimator:hover {background-color: #d4ebff;}#sk-container-id-3 div.sk-parallel-item::after {content: \"\";width: 100%;border-bottom: 1px solid gray;flex-grow: 1;}#sk-container-id-3 div.sk-label:hover label.sk-toggleable__label {background-color: #d4ebff;}#sk-container-id-3 div.sk-serial::before {content: \"\";position: absolute;border-left: 1px solid gray;box-sizing: border-box;top: 0;bottom: 0;left: 50%;z-index: 0;}#sk-container-id-3 div.sk-serial {display: flex;flex-direction: column;align-items: center;background-color: white;padding-right: 0.2em;padding-left: 0.2em;position: relative;}#sk-container-id-3 div.sk-item {position: relative;z-index: 1;}#sk-container-id-3 div.sk-parallel {display: flex;align-items: stretch;justify-content: center;background-color: white;position: relative;}#sk-container-id-3 div.sk-item::before, #sk-container-id-3 div.sk-parallel-item::before {content: \"\";position: absolute;border-left: 1px solid gray;box-sizing: border-box;top: 0;bottom: 0;left: 50%;z-index: -1;}#sk-container-id-3 div.sk-parallel-item {display: flex;flex-direction: column;z-index: 1;position: relative;background-color: white;}#sk-container-id-3 div.sk-parallel-item:first-child::after {align-self: flex-end;width: 50%;}#sk-container-id-3 div.sk-parallel-item:last-child::after {align-self: flex-start;width: 50%;}#sk-container-id-3 div.sk-parallel-item:only-child::after {width: 0;}#sk-container-id-3 div.sk-dashed-wrapped {border: 1px dashed gray;margin: 0 0.4em 0.5em 0.4em;box-sizing: border-box;padding-bottom: 0.4em;background-color: white;}#sk-container-id-3 div.sk-label label {font-family: monospace;font-weight: bold;display: inline-block;line-height: 1.2em;}#sk-container-id-3 div.sk-label-container {text-align: center;}#sk-container-id-3 div.sk-container {/* jupyter's `normalize.less` sets `[hidden] { display: none; }` but bootstrap.min.css set `[hidden] { display: none !important; }` so we also need the `!important` here to be able to override the default hidden behavior on the sphinx rendered scikit-learn.org. See: https://github.com/scikit-learn/scikit-learn/issues/21755 */display: inline-block !important;position: relative;}#sk-container-id-3 div.sk-text-repr-fallback {display: none;}</style><div id=\"sk-container-id-3\" class=\"sk-top-container\"><div class=\"sk-text-repr-fallback\"><pre>RandomForestClassifier()</pre><b>In a Jupyter environment, please rerun this cell to show the HTML representation or trust the notebook. <br />On GitHub, the HTML representation is unable to render, please try loading this page with nbviewer.org.</b></div><div class=\"sk-container\" hidden><div class=\"sk-item\"><div class=\"sk-estimator sk-toggleable\"><input class=\"sk-toggleable__control sk-hidden--visually\" id=\"sk-estimator-id-3\" type=\"checkbox\" checked><label for=\"sk-estimator-id-3\" class=\"sk-toggleable__label sk-toggleable__label-arrow\">RandomForestClassifier</label><div class=\"sk-toggleable__content\"><pre>RandomForestClassifier()</pre></div></div></div></div></div>"
      ],
      "text/plain": [
       "RandomForestClassifier()"
      ]
     },
     "execution_count": 31,
     "metadata": {},
     "output_type": "execute_result"
    }
   ],
   "source": [
    "rf =RandomForestClassifier(n_estimators=100)\n",
    "rf"
   ]
  },
  {
   "cell_type": "code",
   "execution_count": 32,
   "id": "0511fdf1",
   "metadata": {},
   "outputs": [
    {
     "data": {
      "text/plain": [
       "0.7692956558414171"
      ]
     },
     "execution_count": 32,
     "metadata": {},
     "output_type": "execute_result"
    }
   ],
   "source": [
    "rf.fit(X_train, y_train)\n",
    "rf.score(X_test, y_test) "
   ]
  },
  {
   "cell_type": "markdown",
   "id": "6b769b96",
   "metadata": {},
   "source": [
    "Let's take the top 20 important features:"
   ]
  },
  {
   "cell_type": "code",
   "execution_count": 33,
   "id": "60705fd5",
   "metadata": {},
   "outputs": [
    {
     "name": "stdout",
     "output_type": "stream",
     "text": [
      "Fitting 1 folds for each of 16 candidates, totalling 16 fits\n",
      "{'max_depth': 50, 'max_features': 'auto', 'min_samples_split': 2, 'n_estimators': 100}\n",
      "Accuracy 0.774778574441164\n"
     ]
    }
   ],
   "source": [
    "rf_params = {'n_estimators': [100, 200],\n",
    "             'max_features': ['auto', 'sqrt'],\n",
    "             'max_depth': [10, 50],\n",
    "             'min_samples_split': [2, 20]}\n",
    "\n",
    "cv=[(slice(None), slice(None))]\n",
    "\n",
    "rf_clf = GridSearchCV(RandomForestClassifier(random_state=24),rf_params, n_jobs=-1, verbose=2, cv=cv)\n",
    "rf_clf.fit(X_train, y_train)\n",
    "\n",
    "#best parameters of model\n",
    "print(rf_clf.best_params_)\n",
    "\n",
    "#make predictions\n",
    "rf_pred = rf_clf.predict(X_test)\n",
    "print('Accuracy', accuracy_score(rf_pred, y_test))"
   ]
  },
  {
   "cell_type": "markdown",
   "id": "626bc76a",
   "metadata": {},
   "source": [
    "Where is the classifier making mistake?"
   ]
  },
  {
   "cell_type": "code",
   "execution_count": 34,
   "id": "05282cf0",
   "metadata": {
    "scrolled": true
   },
   "outputs": [
    {
     "data": {
      "image/png": "[encoded data removed]",
      "text/plain": [
       "<Figure size 640x480 with 2 Axes>"
      ]
     },
     "metadata": {},
     "output_type": "display_data"
    }
   ],
   "source": [
    "plot_confusion_matrix(rf, X_test, y_test)  \n",
    "plt.show()"
   ]
  },
  {
   "cell_type": "markdown",
   "id": "345702b9",
   "metadata": {},
   "source": [
    "#### d. Choosing the best classifier and fine tuning"
   ]
  },
  {
   "cell_type": "markdown",
   "id": "60a6bc9d",
   "metadata": {},
   "source": [
    "Random forest performed the best out of all the classifiers. Furthermore, we observed that in all confusion matrices, the algorithm is giving too much weight to orgs, so this algorithm is fitting for making an imbalanced training dataset that reflects the real distribution of orgs vs indvs."
   ]
  },
  {
   "cell_type": "markdown",
   "id": "cca68ef8",
   "metadata": {},
   "source": [
    "Let's make a new training dataset with some imbalance, keeping the orgs:indv ratio at 1:2, 1:3, 1:4, 1:5"
   ]
  },
  {
   "cell_type": "code",
   "execution_count": 35,
   "id": "7278bd72",
   "metadata": {},
   "outputs": [],
   "source": [
    "rf = RandomForestClassifier(n_estimators=100)\n",
    "\n",
    "random.seed(625814)\n",
    "o_index = list(orgs.index)\n",
    "i_index = list(indvs.index)"
   ]
  },
  {
   "cell_type": "markdown",
   "id": "ff491369",
   "metadata": {},
   "source": [
    "Let's test out these parameters"
   ]
  },
  {
   "cell_type": "code",
   "execution_count": 36,
   "id": "43dbbdfd",
   "metadata": {},
   "outputs": [],
   "source": [
    "def tuning(ratio):\n",
    "    indices_org_train = random.sample(o_index,300)\n",
    "    indices_indv_train = random.sample(i_index, ratio)\n",
    "    indices_org_test = [index for index in o_index  if index not in indices_org_train]\n",
    "    indices_indv_test = [index for index in i_index if index not in indices_indv_train]   \n",
    "    indices_org_train.extend(indices_indv_train)\n",
    "    indices_org_test.extend(indices_indv_test)\n",
    "    X_train = dfVectors.iloc[indices_org_train].fillna(0)\n",
    "    y_train = labels.iloc[indices_org_train]\n",
    "    X_test = dfVectors.iloc[indices_org_test].fillna(0)\n",
    "    y_test = labels.iloc[indices_org_test]\n",
    "    rf.fit(X_train, y_train)\n",
    "    print(f'new score for {ratio} is {rf.score(X_test, y_test)}')\n",
    "    return rf"
   ]
  },
  {
   "cell_type": "code",
   "execution_count": 37,
   "id": "16b9fa47",
   "metadata": {},
   "outputs": [
    {
     "name": "stdout",
     "output_type": "stream",
     "text": [
      "new score for 600 is 0.8672139063254466\n",
      "new score for 900 is 0.9141727837380011\n",
      "new score for 1200 is 0.9095853161114887\n",
      "new score for 1500 is 0.9017933390264731\n"
     ]
    }
   ],
   "source": [
    "indv = [600, 900, 1200, 1500]\n",
    "for i in indv:\n",
    "    tuning(i)"
   ]
  },
  {
   "cell_type": "markdown",
   "id": "2f1ce163",
   "metadata": {},
   "source": [
    "The 1:4 ratio gives us the best accuracy"
   ]
  },
  {
   "cell_type": "code",
   "execution_count": 38,
   "id": "e294a0bd",
   "metadata": {},
   "outputs": [
    {
     "name": "stdout",
     "output_type": "stream",
     "text": [
      "new score for 1200 is 0.9143439836845684\n"
     ]
    }
   ],
   "source": [
    "rf = tuning(1200)"
   ]
  },
  {
   "cell_type": "markdown",
   "id": "e3ed7004",
   "metadata": {},
   "source": [
    "Let's check the confusion matrix"
   ]
  },
  {
   "cell_type": "code",
   "execution_count": 39,
   "id": "a89f8712",
   "metadata": {
    "scrolled": true
   },
   "outputs": [
    {
     "data": {
      "image/png": "[encoded data removed]",
      "text/plain": [
       "<Figure size 640x480 with 2 Axes>"
      ]
     },
     "metadata": {},
     "output_type": "display_data"
    }
   ],
   "source": [
    "plot_confusion_matrix(rf, X_test, y_test)  \n",
    "plt.show()"
   ]
  },
  {
   "cell_type": "markdown",
   "id": "ca6b6eab",
   "metadata": {},
   "source": [
    "The classifier is making a lot less mistake now after it was fed more information about individual accounts"
   ]
  },
  {
   "cell_type": "markdown",
   "id": "6ced5a20",
   "metadata": {},
   "source": [
    "Let's examining what features are determined to be the most important and if trimmming it would increase our accuracy"
   ]
  },
  {
   "cell_type": "code",
   "execution_count": 40,
   "id": "7d481a80",
   "metadata": {
    "scrolled": true
   },
   "outputs": [
    {
     "name": "stderr",
     "output_type": "stream",
     "text": [
      "No artists with labels found to put in legend.  Note that artists whose label start with an underscore are ignored when legend() is called with no argument.\n"
     ]
    },
    {
     "data": {
      "image/png": "[encoded data removed]",
      "text/plain": [
       "<Figure size 640x480 with 1 Axes>"
      ]
     },
     "metadata": {},
     "output_type": "display_data"
    }
   ],
   "source": [
    "import seaborn as sns\n",
    "%matplotlib inline\n",
    "feature_imp = pd.Series(rf.feature_importances_,index=X_train.columns).sort_values(ascending=False)\n",
    "feature_imp\n",
    "sns.barplot(x=feature_imp, y=feature_imp.index)\n",
    "# Add labels to your graph\n",
    "plt.xlabel('Feature Importance Score')\n",
    "plt.ylabel('Features')\n",
    "plt.title(\"Visualizing Important Features\")\n",
    "plt.legend()\n",
    "plt.show()"
   ]
  },
  {
   "cell_type": "code",
   "execution_count": 41,
   "id": "17e6dc02",
   "metadata": {
    "scrolled": true
   },
   "outputs": [
    {
     "name": "stdout",
     "output_type": "stream",
     "text": [
      "new score for keeping top 10 features is 0.7739350485027414\n",
      "new score for keeping top 15 features is 0.7553774778574441\n",
      "new score for keeping top 20 features is 0.7676086039645719\n",
      "new score for keeping top 25 features is 0.7739350485027414\n"
     ]
    }
   ],
   "source": [
    "for x in [10,15,20,25]:\n",
    "    keep_features = list(feature_imp.index[:x])\n",
    "    X_train_new = X_train[keep_features]\n",
    "    X_test_new = X_test[keep_features]\n",
    "    rf = RandomForestClassifier(n_estimators=100)\n",
    "    rf.fit(X_train_new, y_train)\n",
    "    print(f'new score for keeping top {x} features is {rf.score(X_test_new, y_test)}')"
   ]
  },
  {
   "cell_type": "markdown",
   "id": "226dce88",
   "metadata": {},
   "source": [
    "We see no improvement, so there is no need for pruning the trees. In conclusion, random forest is the best performing classifier for user type at the 1:4 ratio"
   ]
  },
  {
   "cell_type": "code",
   "execution_count": 42,
   "id": "a5e3ba12",
   "metadata": {},
   "outputs": [
    {
     "name": "stdout",
     "output_type": "stream",
     "text": [
      "new score for 1200 is 0.9150237933378654\n"
     ]
    }
   ],
   "source": [
    "rf_best = tuning(1200)"
   ]
  },
  {
   "cell_type": "code",
   "execution_count": 43,
   "id": "d9e0696a",
   "metadata": {},
   "outputs": [
    {
     "data": {
      "text/plain": [
       "Index(['bio_has_ind', 'bio_has_org', 'bio_len', 'followers/followings',\n",
       "       'followers_count', 'following_count', 'like/followers', 'like_count',\n",
       "       'listed/followers', 'listed_count', 'num_exc', 'num_qm', 'quote_count',\n",
       "       'reply_count', 'retweet_count', 'rp/followers', 'rt/followers',\n",
       "       'tweet_freq', 'tweet_has_url', 'tweet_len', 'tweets_SRH', 'verified'],\n",
       "      dtype='object')"
      ]
     },
     "execution_count": 43,
     "metadata": {},
     "output_type": "execute_result"
    }
   ],
   "source": [
    "X_train.columns"
   ]
  },
  {
   "cell_type": "markdown",
   "id": "f1c7d780",
   "metadata": {},
   "source": [
    "### 3. Period tracker relevancy"
   ]
  },
  {
   "cell_type": "markdown",
   "id": "76071ab9",
   "metadata": {},
   "source": [
    "For this classifier, we've decided to use  Naive Bayes text classification with the tweet content "
   ]
  },
  {
   "cell_type": "code",
   "execution_count": 44,
   "id": "5e0b98c5",
   "metadata": {},
   "outputs": [],
   "source": [
    "from sklearn.feature_extraction.text import CountVectorizer"
   ]
  },
  {
   "cell_type": "code",
   "execution_count": 45,
   "id": "291b544f",
   "metadata": {},
   "outputs": [],
   "source": [
    "text = df[['period_tracking', 'text']]\n",
    "\n",
    "t_features = text['text'].fillna('')\n",
    "t_labels = text['period_tracking']\n",
    "\n",
    "vectorizer = CountVectorizer()\n",
    "t_X = vectorizer.fit_transform(t_features)\n",
    "\n",
    "t_X_train = vectorizer.fit_transform(t_features.iloc[indices_org_train])\n",
    "t_y_train = t_labels.iloc[indices_org_train]\n",
    "\n",
    "t_X_test = vectorizer.transform(t_features.iloc[indices_org_test])\n",
    "t_y_test = t_labels.iloc[indices_org_test]"
   ]
  },
  {
   "cell_type": "code",
   "execution_count": 46,
   "id": "7fee7691",
   "metadata": {},
   "outputs": [
    {
     "name": "stdout",
     "output_type": "stream",
     "text": [
      "MultinomialNB()\n"
     ]
    }
   ],
   "source": [
    "from sklearn.naive_bayes import MultinomialNB\n",
    "classifier = MultinomialNB()\n",
    "print(classifier)"
   ]
  },
  {
   "cell_type": "code",
   "execution_count": 47,
   "id": "2661707d",
   "metadata": {},
   "outputs": [
    {
     "data": {
      "text/html": [
       "<style>#sk-container-id-4 {color: black;background-color: white;}#sk-container-id-4 pre{padding: 0;}#sk-container-id-4 div.sk-toggleable {background-color: white;}#sk-container-id-4 label.sk-toggleable__label {cursor: pointer;display: block;width: 100%;margin-bottom: 0;padding: 0.3em;box-sizing: border-box;text-align: center;}#sk-container-id-4 label.sk-toggleable__label-arrow:before {content: \"▸\";float: left;margin-right: 0.25em;color: #696969;}#sk-container-id-4 label.sk-toggleable__label-arrow:hover:before {color: black;}#sk-container-id-4 div.sk-estimator:hover label.sk-toggleable__label-arrow:before {color: black;}#sk-container-id-4 div.sk-toggleable__content {max-height: 0;max-width: 0;overflow: hidden;text-align: left;background-color: #f0f8ff;}#sk-container-id-4 div.sk-toggleable__content pre {margin: 0.2em;color: black;border-radius: 0.25em;background-color: #f0f8ff;}#sk-container-id-4 input.sk-toggleable__control:checked~div.sk-toggleable__content {max-height: 200px;max-width: 100%;overflow: auto;}#sk-container-id-4 input.sk-toggleable__control:checked~label.sk-toggleable__label-arrow:before {content: \"▾\";}#sk-container-id-4 div.sk-estimator input.sk-toggleable__control:checked~label.sk-toggleable__label {background-color: #d4ebff;}#sk-container-id-4 div.sk-label input.sk-toggleable__control:checked~label.sk-toggleable__label {background-color: #d4ebff;}#sk-container-id-4 input.sk-hidden--visually {border: 0;clip: rect(1px 1px 1px 1px);clip: rect(1px, 1px, 1px, 1px);height: 1px;margin: -1px;overflow: hidden;padding: 0;position: absolute;width: 1px;}#sk-container-id-4 div.sk-estimator {font-family: monospace;background-color: #f0f8ff;border: 1px dotted black;border-radius: 0.25em;box-sizing: border-box;margin-bottom: 0.5em;}#sk-container-id-4 div.sk-estimator:hover {background-color: #d4ebff;}#sk-container-id-4 div.sk-parallel-item::after {content: \"\";width: 100%;border-bottom: 1px solid gray;flex-grow: 1;}#sk-container-id-4 div.sk-label:hover label.sk-toggleable__label {background-color: #d4ebff;}#sk-container-id-4 div.sk-serial::before {content: \"\";position: absolute;border-left: 1px solid gray;box-sizing: border-box;top: 0;bottom: 0;left: 50%;z-index: 0;}#sk-container-id-4 div.sk-serial {display: flex;flex-direction: column;align-items: center;background-color: white;padding-right: 0.2em;padding-left: 0.2em;position: relative;}#sk-container-id-4 div.sk-item {position: relative;z-index: 1;}#sk-container-id-4 div.sk-parallel {display: flex;align-items: stretch;justify-content: center;background-color: white;position: relative;}#sk-container-id-4 div.sk-item::before, #sk-container-id-4 div.sk-parallel-item::before {content: \"\";position: absolute;border-left: 1px solid gray;box-sizing: border-box;top: 0;bottom: 0;left: 50%;z-index: -1;}#sk-container-id-4 div.sk-parallel-item {display: flex;flex-direction: column;z-index: 1;position: relative;background-color: white;}#sk-container-id-4 div.sk-parallel-item:first-child::after {align-self: flex-end;width: 50%;}#sk-container-id-4 div.sk-parallel-item:last-child::after {align-self: flex-start;width: 50%;}#sk-container-id-4 div.sk-parallel-item:only-child::after {width: 0;}#sk-container-id-4 div.sk-dashed-wrapped {border: 1px dashed gray;margin: 0 0.4em 0.5em 0.4em;box-sizing: border-box;padding-bottom: 0.4em;background-color: white;}#sk-container-id-4 div.sk-label label {font-family: monospace;font-weight: bold;display: inline-block;line-height: 1.2em;}#sk-container-id-4 div.sk-label-container {text-align: center;}#sk-container-id-4 div.sk-container {/* jupyter's `normalize.less` sets `[hidden] { display: none; }` but bootstrap.min.css set `[hidden] { display: none !important; }` so we also need the `!important` here to be able to override the default hidden behavior on the sphinx rendered scikit-learn.org. See: https://github.com/scikit-learn/scikit-learn/issues/21755 */display: inline-block !important;position: relative;}#sk-container-id-4 div.sk-text-repr-fallback {display: none;}</style><div id=\"sk-container-id-4\" class=\"sk-top-container\"><div class=\"sk-text-repr-fallback\"><pre>MultinomialNB()</pre><b>In a Jupyter environment, please rerun this cell to show the HTML representation or trust the notebook. <br />On GitHub, the HTML representation is unable to render, please try loading this page with nbviewer.org.</b></div><div class=\"sk-container\" hidden><div class=\"sk-item\"><div class=\"sk-estimator sk-toggleable\"><input class=\"sk-toggleable__control sk-hidden--visually\" id=\"sk-estimator-id-4\" type=\"checkbox\" checked><label for=\"sk-estimator-id-4\" class=\"sk-toggleable__label sk-toggleable__label-arrow\">MultinomialNB</label><div class=\"sk-toggleable__content\"><pre>MultinomialNB()</pre></div></div></div></div></div>"
      ],
      "text/plain": [
       "MultinomialNB()"
      ]
     },
     "execution_count": 47,
     "metadata": {},
     "output_type": "execute_result"
    }
   ],
   "source": [
    "clf = MultinomialNB()\n",
    "clf.fit(t_X_train, t_y_train)"
   ]
  },
  {
   "cell_type": "code",
   "execution_count": 48,
   "id": "bb12a345",
   "metadata": {},
   "outputs": [
    {
     "data": {
      "text/plain": [
       "0.9169126950653732"
      ]
     },
     "execution_count": 48,
     "metadata": {},
     "output_type": "execute_result"
    }
   ],
   "source": [
    "y_pred_class = clf.predict(t_X_test)\n",
    "accuracy_score(t_y_test, y_pred_class)"
   ]
  },
  {
   "cell_type": "markdown",
   "id": "54dee54e",
   "metadata": {},
   "source": [
    "This is a good score! We won't need any tuning with this"
   ]
  },
  {
   "cell_type": "markdown",
   "id": "c5da4321",
   "metadata": {},
   "source": [
    "### 4. Sentiment Analysis"
   ]
  },
  {
   "cell_type": "markdown",
   "id": "566f9b3d",
   "metadata": {},
   "source": [
    "For this task, we first decided to use the roBerta classifier since it's especially fine tuned for tweet sentiment analysis. However, the model takes extreme computational process and with no times permitting, we've decided to use Naive Bayes for this task again. "
   ]
  },
  {
   "cell_type": "code",
   "execution_count": 49,
   "id": "3720971d",
   "metadata": {},
   "outputs": [
    {
     "name": "stderr",
     "output_type": "stream",
     "text": [
      "[nltk_data] Downloading package stopwords to\n",
      "[nltk_data]     C:\\Users\\dauho\\AppData\\Roaming\\nltk_data...\n",
      "[nltk_data]   Package stopwords is already up-to-date!\n"
     ]
    }
   ],
   "source": [
    "import numpy as np\n",
    "import re\n",
    "import nltk\n",
    "nltk.download('stopwords')\n",
    "from nltk.corpus import stopwords\n",
    "from nltk.tokenize import RegexpTokenizer\n",
    "\n",
    "\n",
    "def replace_usernames(tweet, special_token='<USERNAME>'):\n",
    "  return re.sub('@[\\w]+', special_token, tweet)\n",
    "\n",
    "def replace_urls(tweet, special_token='<URL>'):\n",
    "  return re.sub(r'https?://[\\n\\S]+\\b', special_token, tweet)\n",
    "\n",
    "from emot.emo_unicode import UNICODE_EMOJI, EMOTICONS_EMO\n",
    "# translate emoji\n",
    "def emoji(text):\n",
    "  for emot in UNICODE_EMOJI:\n",
    "    if text == None:\n",
    "      text = text\n",
    "    else:\n",
    "      text = text.replace(emot, \"_\".join(UNICODE_EMOJI[emot].replace(\",\", \"\").replace(\":\", \"\").split()))\n",
    "    return text\n",
    "\n",
    "# remove non ascii character\n",
    "def non_ascii(s):\n",
    "  return \"\".join(i for i in s if ord(i)<128)\n",
    "\n",
    "def punct(text):\n",
    "  token=RegexpTokenizer(r'\\w+')#regex\n",
    "  text = token.tokenize(text)\n",
    "  text= \" \".join(text)\n",
    "  return text \n",
    "\n",
    "def removeStopWords(str):\n",
    "#select english stopwords\n",
    "  cachedStopWords = set(stopwords.words(\"english\"))\n",
    "#add custom words\n",
    "  cachedStopWords.update(('and','I','A','http','And','So','arnt','This','When','It','many','Many','so','cant','Yes','yes','No','no','These','these','mailto','regards','ayanna','like','email'))\n",
    "#remove stop words\n",
    "  new_str = ' '.join([word for word in str.split() if word not in cachedStopWords]) \n",
    "  return new_str\n",
    "\n",
    "\n",
    "def remove_(tweet):\n",
    "  tweet = re.sub('([_]+)', \"\", tweet)\n",
    "  return tweet\n",
    "\n",
    "def process_tweets(tweet):\n",
    "  tweet = str(tweet).lower()\n",
    "  tweet = remove_(tweet)\n",
    "  tweet = punct(tweet)\n",
    "  tweet = non_ascii(tweet)\n",
    "  tweet = emoji(tweet)\n",
    "  tweet = removeStopWords(tweet)\n",
    "  return replace_usernames(replace_urls(tweet))"
   ]
  },
  {
   "cell_type": "code",
   "execution_count": 50,
   "id": "4b936125",
   "metadata": {},
   "outputs": [],
   "source": [
    "sen = tweets[['sentiment','text']]\n",
    "sen['clean_text'] = sen['text'].apply(process_tweets)\n",
    "sen_features = sen['clean_text'].fillna('')\n",
    "sen_labels = sen['sentiment']"
   ]
  },
  {
   "cell_type": "code",
   "execution_count": 51,
   "id": "51d1c86e",
   "metadata": {},
   "outputs": [],
   "source": [
    "pos = tweets.loc[tweets['sentiment']=='positive']\n",
    "neg = tweets.loc[tweets['sentiment']=='negative']\n",
    "neu = tweets.loc[tweets['sentiment']=='neutral']"
   ]
  },
  {
   "cell_type": "code",
   "execution_count": 52,
   "id": "eac4ad52",
   "metadata": {},
   "outputs": [
    {
     "name": "stdout",
     "output_type": "stream",
     "text": [
      "(292, 35)\n",
      "(1013, 35)\n",
      "(1695, 35)\n"
     ]
    }
   ],
   "source": [
    "print(pos.shape)\n",
    "print(neg.shape)\n",
    "print(neu.shape)"
   ]
  },
  {
   "cell_type": "markdown",
   "id": "6beb3e61",
   "metadata": {},
   "source": [
    "Choosing different ratio of sampling"
   ]
  },
  {
   "cell_type": "code",
   "execution_count": 53,
   "id": "811ee662",
   "metadata": {},
   "outputs": [],
   "source": [
    "random.seed(625814)\n",
    "\n",
    "pos_index = list(pos.index)\n",
    "neg_index = list(neg.index)\n",
    "neu_index = list(neu.index)\n",
    "\n",
    "\n",
    "indices_pos_train = random.sample(pos_index, 200)\n",
    "indices_neg_train = random.sample(neg_index, 600)\n",
    "indices_neu_train = random.sample(neu_index, 900)\n",
    "    \n",
    "    \n",
    "indices_pos_test = [index for index in pos_index if index not in indices_pos_train]\n",
    "indices_neg_test = [index for index in neg_index if index not in indices_neg_train]\n",
    "indices_neu_test = [index for index in neu_index if index not in indices_neu_train]"
   ]
  },
  {
   "cell_type": "code",
   "execution_count": 54,
   "id": "1f817a48",
   "metadata": {},
   "outputs": [],
   "source": [
    "indices_pos_train.extend(indices_neg_train)\n",
    "indices_pos_train.extend(indices_neu_train)\n",
    "indices_pos_test.extend(indices_neg_test)\n",
    "indices_pos_test.extend(indices_neu_test)"
   ]
  },
  {
   "cell_type": "code",
   "execution_count": 55,
   "id": "c675ca48",
   "metadata": {},
   "outputs": [
    {
     "data": {
      "text/plain": [
       "0.6138461538461538"
      ]
     },
     "execution_count": 55,
     "metadata": {},
     "output_type": "execute_result"
    }
   ],
   "source": [
    "vectorizer = CountVectorizer()\n",
    "\n",
    "X_train = vectorizer.fit_transform(sen_features.iloc[indices_pos_train])\n",
    "y_train = sen_labels.iloc[indices_pos_train]\n",
    "\n",
    "X_test = vectorizer.transform(t_features.iloc[indices_pos_test])\n",
    "y_test = sen_labels.iloc[indices_pos_test]\n",
    "\n",
    "classifier = MultinomialNB()\n",
    "classifier.fit(X_train, y_train)\n",
    "\n",
    "y_pred_class = classifier.predict(X_test)\n",
    "accuracy_score(y_test, y_pred_class)"
   ]
  },
  {
   "cell_type": "markdown",
   "id": "c2930e7a",
   "metadata": {},
   "source": [
    "Naive Bayes struggles to label the tweets' sentiment due to its complex nature. For this task, I've decided to use the roBerta model since it's been fine tuned specifically for tweets sentiment analysis, which will be done on a separate Colab notebook."
   ]
  },
  {
   "cell_type": "markdown",
   "id": "3905f5be",
   "metadata": {},
   "source": [
    "### 5. Labeling our data"
   ]
  },
  {
   "cell_type": "markdown",
   "id": "03447557",
   "metadata": {},
   "source": [
    "Now that we've determined the best classifiers for our data:\n",
    "\n",
    "1. Random Forest for User type\n",
    "2. Naive Bayes for period tracker relevancy\n",
    "\n",
    "**We can finally label our dataset**"
   ]
  },
  {
   "cell_type": "code",
   "execution_count": 56,
   "id": "30512523",
   "metadata": {},
   "outputs": [
    {
     "data": {
      "text/plain": [
       "(193204, 18)"
      ]
     },
     "execution_count": 56,
     "metadata": {},
     "output_type": "execute_result"
    }
   ],
   "source": [
    "dfr = pd.read_csv(\"data.csv\", index_col=0)\n",
    "dfr.shape"
   ]
  },
  {
   "cell_type": "code",
   "execution_count": 57,
   "id": "66825fb9",
   "metadata": {},
   "outputs": [
    {
     "data": {
      "text/plain": [
       "Index(['id', 'created_at_x', 'user_id', 'text', 'retweet_count', 'reply_count',\n",
       "       'like_count', 'quote_count', 'username', 'name', 'description',\n",
       "       'created_at_y', 'verified', 'followers_count', 'following_count',\n",
       "       'tweet_count', 'listed_count', 'tweets_SRH'],\n",
       "      dtype='object')"
      ]
     },
     "execution_count": 57,
     "metadata": {},
     "output_type": "execute_result"
    }
   ],
   "source": [
    "dfr.columns"
   ]
  },
  {
   "cell_type": "code",
   "execution_count": 58,
   "id": "ef5412d9",
   "metadata": {},
   "outputs": [],
   "source": [
    "# data = dfr.loc[dfr['created_at_x']>'2022-02-25']\n",
    "# data.shape"
   ]
  },
  {
   "cell_type": "code",
   "execution_count": 59,
   "id": "891032a0",
   "metadata": {},
   "outputs": [],
   "source": [
    "#1. Tweet frequency (tweets/week)\n",
    "dfr['tweet_freq']= dfr.apply(lambda x: tweet_frequency(x['created_at_y'], '2022-10-25', x['tweet_count']),axis=1)\n",
    "\n",
    "#2. followers/followings ratio\n",
    "dfr['followers/followings'] = dfr.apply(lambda x: log_ratio(x['followers_count'], x['following_count']), axis=1)\n",
    "# round(df['followers_count']/df['following_count']*1000,2)\n",
    "\n",
    "#3. Bio length, has emoji, has “organization, org, news, agency, institution”, vs “personal, i, my,”\n",
    "dfr['bio_len'] = dfr['description'].apply(length)\n",
    "# df['bio_has_emoji'] = df['description'].apply(has_emoji)\n",
    "dfr['bio_has_org'] = dfr['description'].apply(contains_org_key)\n",
    "dfr['bio_has_ind'] = dfr['description'].apply(contains_indv_key)\n",
    "\n",
    "4#. Tweet text length:\n",
    "dfr['tweet_len'] = dfr['text'].apply(length)\n",
    "\n",
    "#5. Popularity: likes/followers, retweet/followers, replies/followers   \n",
    "dfr['like/followers'] = dfr.apply(lambda x: log_ratio(x['like_count'], x['followers_count']), axis=1)\n",
    "dfr['rt/followers'] = dfr.apply(lambda x: log_ratio(x['retweet_count'], x['followers_count']), axis=1)\n",
    "dfr['rp/followers'] = dfr.apply(lambda x: log_ratio(x['reply_count'], x['followers_count']), axis=1)\n",
    "\n",
    "#6. Tweet has url\n",
    "dfr['tweet_has_url'] = dfr['text'].apply(has_URL)\n",
    "\n",
    "#7. Tweet has emoji\n",
    "# df['tweet_has_emoji'] = df['text'].apply(has_emoji)\n",
    "\n",
    "#8. Number of exclamation mark in tweet content\n",
    "dfr['num_exc'] = dfr['text'].apply(num_exc)\n",
    "\n",
    "#9. Number of quotation mark in tweet content\n",
    "dfr['num_qm'] = dfr['text'].apply(num_quote)\n",
    "\n",
    "#10. Name has emoji\n",
    "# df['name_has_emoji'] = df['name'].apply(has_emoji)\n",
    "\n",
    "#11. Listed count/followers\n",
    "dfr['listed/followers'] = dfr.apply(lambda x: log_ratio(x['listed_count'], x['followers_count']), axis=1)\n",
    "\n",
    "#12. Convert everything to 1 and 0\n",
    "dfr['verified'] = dfr['verified'].replace(True, 1)\n",
    "dfr['verified'] = dfr['verified'].replace(False, 0)"
   ]
  },
  {
   "cell_type": "markdown",
   "id": "1f4439cd",
   "metadata": {},
   "source": [
    "**Labeling user type**"
   ]
  },
  {
   "cell_type": "code",
   "execution_count": 60,
   "id": "542f5b1c",
   "metadata": {},
   "outputs": [],
   "source": [
    "df_pred_user = dfr[['retweet_count', 'reply_count',\n",
    "       'like_count', 'quote_count', 'verified', 'followers_count', 'tweets_SRH', \n",
    "        'following_count', 'listed_count', 'tweet_freq', 'followers/followings', 'bio_len', \n",
    "       'bio_has_org','bio_has_ind', 'tweet_len', 'like/followers', 'rt/followers',\n",
    "       'rp/followers', 'tweet_has_url', \n",
    "        'num_exc', 'num_qm', 'listed/followers']].reset_index(drop = True)"
   ]
  },
  {
   "cell_type": "code",
   "execution_count": 61,
   "id": "443f1255",
   "metadata": {},
   "outputs": [],
   "source": [
    "features_pred = df_pred_user.replace([np.inf, -np.inf], 0, inplace=True)\n",
    "features_pred = df_pred_user.replace(np.nan, 0)\n",
    "\n",
    "\n",
    "vec = DictVectorizer(sparse = False, dtype = float)\n",
    "x = vec.fit_transform(features_pred.to_dict('record'))\n",
    "dfVectors = pd.DataFrame(x, columns = vec.get_feature_names())\n",
    "X_user = dfVectors.fillna(0)"
   ]
  },
  {
   "cell_type": "code",
   "execution_count": 62,
   "id": "2b9b5ca3",
   "metadata": {},
   "outputs": [],
   "source": [
    "dfr['user_type'] = rf_best.predict(X_user)"
   ]
  },
  {
   "cell_type": "code",
   "execution_count": 63,
   "id": "a9e2ad0c",
   "metadata": {},
   "outputs": [
    {
     "data": {
      "text/html": [
       "<div>\n",
       "<style scoped>\n",
       "    .dataframe tbody tr th:only-of-type {\n",
       "        vertical-align: middle;\n",
       "    }\n",
       "\n",
       "    .dataframe tbody tr th {\n",
       "        vertical-align: top;\n",
       "    }\n",
       "\n",
       "    .dataframe thead th {\n",
       "        text-align: right;\n",
       "    }\n",
       "</style>\n",
       "<table border=\"1\" class=\"dataframe\">\n",
       "  <thead>\n",
       "    <tr style=\"text-align: right;\">\n",
       "      <th></th>\n",
       "      <th>id</th>\n",
       "      <th>created_at_x</th>\n",
       "      <th>user_id</th>\n",
       "      <th>text</th>\n",
       "      <th>retweet_count</th>\n",
       "      <th>reply_count</th>\n",
       "      <th>like_count</th>\n",
       "      <th>quote_count</th>\n",
       "      <th>username</th>\n",
       "      <th>name</th>\n",
       "      <th>...</th>\n",
       "      <th>bio_has_ind</th>\n",
       "      <th>tweet_len</th>\n",
       "      <th>like/followers</th>\n",
       "      <th>rt/followers</th>\n",
       "      <th>rp/followers</th>\n",
       "      <th>tweet_has_url</th>\n",
       "      <th>num_exc</th>\n",
       "      <th>num_qm</th>\n",
       "      <th>listed/followers</th>\n",
       "      <th>user_type</th>\n",
       "    </tr>\n",
       "  </thead>\n",
       "  <tbody>\n",
       "    <tr>\n",
       "      <th>0</th>\n",
       "      <td>1448802667292200966</td>\n",
       "      <td>2021-10-15 00:07:27+00:00</td>\n",
       "      <td>521716695</td>\n",
       "      <td>I wonder how long before women are not allowed...</td>\n",
       "      <td>0</td>\n",
       "      <td>0</td>\n",
       "      <td>1</td>\n",
       "      <td>0</td>\n",
       "      <td>_sconsolato</td>\n",
       "      <td>Dewi ♀</td>\n",
       "      <td>...</td>\n",
       "      <td>True</td>\n",
       "      <td>188</td>\n",
       "      <td>-9.471675</td>\n",
       "      <td>0.0</td>\n",
       "      <td>0.000000</td>\n",
       "      <td>True</td>\n",
       "      <td>1</td>\n",
       "      <td>0</td>\n",
       "      <td>-9.471675</td>\n",
       "      <td>indv</td>\n",
       "    </tr>\n",
       "    <tr>\n",
       "      <th>1</th>\n",
       "      <td>1464783777381683206</td>\n",
       "      <td>2021-11-28 02:30:41+00:00</td>\n",
       "      <td>521716695</td>\n",
       "      <td>I've been watching these mid-century education...</td>\n",
       "      <td>0</td>\n",
       "      <td>0</td>\n",
       "      <td>0</td>\n",
       "      <td>0</td>\n",
       "      <td>_sconsolato</td>\n",
       "      <td>Dewi ♀</td>\n",
       "      <td>...</td>\n",
       "      <td>True</td>\n",
       "      <td>158</td>\n",
       "      <td>0.000000</td>\n",
       "      <td>0.0</td>\n",
       "      <td>0.000000</td>\n",
       "      <td>True</td>\n",
       "      <td>1</td>\n",
       "      <td>0</td>\n",
       "      <td>-9.471675</td>\n",
       "      <td>indv</td>\n",
       "    </tr>\n",
       "    <tr>\n",
       "      <th>2</th>\n",
       "      <td>1501648630725369859</td>\n",
       "      <td>2022-03-09 19:58:27+00:00</td>\n",
       "      <td>521716695</td>\n",
       "      <td>@dan_nailed @PurveyorOfPest1 @mjeslfc @BioTran...</td>\n",
       "      <td>0</td>\n",
       "      <td>1</td>\n",
       "      <td>3</td>\n",
       "      <td>0</td>\n",
       "      <td>_sconsolato</td>\n",
       "      <td>Dewi ♀</td>\n",
       "      <td>...</td>\n",
       "      <td>True</td>\n",
       "      <td>347</td>\n",
       "      <td>-7.886713</td>\n",
       "      <td>0.0</td>\n",
       "      <td>-9.471675</td>\n",
       "      <td>False</td>\n",
       "      <td>6</td>\n",
       "      <td>0</td>\n",
       "      <td>-9.471675</td>\n",
       "      <td>indv</td>\n",
       "    </tr>\n",
       "    <tr>\n",
       "      <th>3</th>\n",
       "      <td>1448803736076365824</td>\n",
       "      <td>2021-10-15 00:11:42+00:00</td>\n",
       "      <td>595644055</td>\n",
       "      <td>@Draconacticus @HamillHimself When we say \"per...</td>\n",
       "      <td>0</td>\n",
       "      <td>1</td>\n",
       "      <td>0</td>\n",
       "      <td>0</td>\n",
       "      <td>JordansMom769</td>\n",
       "      <td>Cindy H</td>\n",
       "      <td>...</td>\n",
       "      <td>False</td>\n",
       "      <td>221</td>\n",
       "      <td>0.000000</td>\n",
       "      <td>0.0</td>\n",
       "      <td>-4.087463</td>\n",
       "      <td>False</td>\n",
       "      <td>2</td>\n",
       "      <td>2</td>\n",
       "      <td>0.000000</td>\n",
       "      <td>indv</td>\n",
       "    </tr>\n",
       "    <tr>\n",
       "      <th>4</th>\n",
       "      <td>1448804546059268098</td>\n",
       "      <td>2021-10-15 00:14:55+00:00</td>\n",
       "      <td>1154281865441767424</td>\n",
       "      <td>“Menstruation is when you have a kid, right?”</td>\n",
       "      <td>0</td>\n",
       "      <td>0</td>\n",
       "      <td>0</td>\n",
       "      <td>0</td>\n",
       "      <td>_queenoffools</td>\n",
       "      <td>N8🕸</td>\n",
       "      <td>...</td>\n",
       "      <td>True</td>\n",
       "      <td>45</td>\n",
       "      <td>0.000000</td>\n",
       "      <td>0.0</td>\n",
       "      <td>0.000000</td>\n",
       "      <td>False</td>\n",
       "      <td>1</td>\n",
       "      <td>0</td>\n",
       "      <td>0.000000</td>\n",
       "      <td>indv</td>\n",
       "    </tr>\n",
       "  </tbody>\n",
       "</table>\n",
       "<p>5 rows × 32 columns</p>\n",
       "</div>"
      ],
      "text/plain": [
       "                    id               created_at_x              user_id  \\\n",
       "0  1448802667292200966  2021-10-15 00:07:27+00:00            521716695   \n",
       "1  1464783777381683206  2021-11-28 02:30:41+00:00            521716695   \n",
       "2  1501648630725369859  2022-03-09 19:58:27+00:00            521716695   \n",
       "3  1448803736076365824  2021-10-15 00:11:42+00:00            595644055   \n",
       "4  1448804546059268098  2021-10-15 00:14:55+00:00  1154281865441767424   \n",
       "\n",
       "                                                text  retweet_count  \\\n",
       "0  I wonder how long before women are not allowed...              0   \n",
       "1  I've been watching these mid-century education...              0   \n",
       "2  @dan_nailed @PurveyorOfPest1 @mjeslfc @BioTran...              0   \n",
       "3  @Draconacticus @HamillHimself When we say \"per...              0   \n",
       "4      “Menstruation is when you have a kid, right?”              0   \n",
       "\n",
       "   reply_count  like_count  quote_count       username     name  ...  \\\n",
       "0            0           1            0    _sconsolato   Dewi ♀  ...   \n",
       "1            0           0            0    _sconsolato   Dewi ♀  ...   \n",
       "2            1           3            0    _sconsolato   Dewi ♀  ...   \n",
       "3            1           0            0  JordansMom769  Cindy H  ...   \n",
       "4            0           0            0  _queenoffools      N8🕸  ...   \n",
       "\n",
       "  bio_has_ind tweet_len  like/followers  rt/followers  rp/followers  \\\n",
       "0        True       188       -9.471675           0.0      0.000000   \n",
       "1        True       158        0.000000           0.0      0.000000   \n",
       "2        True       347       -7.886713           0.0     -9.471675   \n",
       "3       False       221        0.000000           0.0     -4.087463   \n",
       "4        True        45        0.000000           0.0      0.000000   \n",
       "\n",
       "   tweet_has_url  num_exc  num_qm  listed/followers  user_type  \n",
       "0           True        1       0         -9.471675       indv  \n",
       "1           True        1       0         -9.471675       indv  \n",
       "2          False        6       0         -9.471675       indv  \n",
       "3          False        2       2          0.000000       indv  \n",
       "4          False        1       0          0.000000       indv  \n",
       "\n",
       "[5 rows x 32 columns]"
      ]
     },
     "execution_count": 63,
     "metadata": {},
     "output_type": "execute_result"
    }
   ],
   "source": [
    "dfr.head()"
   ]
  },
  {
   "cell_type": "markdown",
   "id": "e325b073",
   "metadata": {},
   "source": [
    "**Labeling period tracker relevance**"
   ]
  },
  {
   "cell_type": "code",
   "execution_count": 64,
   "id": "86d8a4c1",
   "metadata": {},
   "outputs": [],
   "source": [
    "df_txt = dfr[['text']]"
   ]
  },
  {
   "cell_type": "code",
   "execution_count": 65,
   "id": "f5231d16",
   "metadata": {},
   "outputs": [
    {
     "data": {
      "text/plain": [
       "0         I wonder how long before women are not allowed...\n",
       "1         I've been watching these mid-century education...\n",
       "2         @dan_nailed @PurveyorOfPest1 @mjeslfc @BioTran...\n",
       "3         @Draconacticus @HamillHimself When we say \"per...\n",
       "4             “Menstruation is when you have a kid, right?”\n",
       "                                ...                        \n",
       "195870    @LightShiner2 @FK_Mystel @VincentFletcher @Pan...\n",
       "195871    Façon dont la femme aime le sexe que pour leur...\n",
       "195872    1/ \"Access to menstrual hygiene products and i...\n",
       "195873    why is my period tracker so fucking funny http...\n",
       "195874    @DivineIndulgnce Did you try to change it on p...\n",
       "Name: text, Length: 193204, dtype: object"
      ]
     },
     "execution_count": 65,
     "metadata": {},
     "output_type": "execute_result"
    }
   ],
   "source": [
    "text_features = df_txt['text'].fillna('')\n",
    "text_features"
   ]
  },
  {
   "cell_type": "code",
   "execution_count": 66,
   "id": "4a543502",
   "metadata": {},
   "outputs": [],
   "source": [
    "vectorizer = CountVectorizer()\n",
    "\n",
    "t_X_train = vectorizer.fit_transform(t_features.iloc[indices_org_train])\n",
    "t_y_train = t_labels.iloc[indices_org_train]\n",
    "\n",
    "\n",
    "clf = MultinomialNB()\n",
    "clf.fit(t_X_train, t_y_train)\n",
    "\n",
    "X = vectorizer.transform(text_features)\n",
    "\n",
    "dfr['period_tracker'] = clf.predict(X) "
   ]
  },
  {
   "cell_type": "code",
   "execution_count": 67,
   "id": "f73fa8e6",
   "metadata": {
    "scrolled": true
   },
   "outputs": [
    {
     "data": {
      "text/html": [
       "<div>\n",
       "<style scoped>\n",
       "    .dataframe tbody tr th:only-of-type {\n",
       "        vertical-align: middle;\n",
       "    }\n",
       "\n",
       "    .dataframe tbody tr th {\n",
       "        vertical-align: top;\n",
       "    }\n",
       "\n",
       "    .dataframe thead th {\n",
       "        text-align: right;\n",
       "    }\n",
       "</style>\n",
       "<table border=\"1\" class=\"dataframe\">\n",
       "  <thead>\n",
       "    <tr style=\"text-align: right;\">\n",
       "      <th></th>\n",
       "      <th>id</th>\n",
       "      <th>created_at_x</th>\n",
       "      <th>user_id</th>\n",
       "      <th>text</th>\n",
       "      <th>retweet_count</th>\n",
       "      <th>reply_count</th>\n",
       "      <th>like_count</th>\n",
       "      <th>quote_count</th>\n",
       "      <th>username</th>\n",
       "      <th>name</th>\n",
       "      <th>...</th>\n",
       "      <th>tweet_len</th>\n",
       "      <th>like/followers</th>\n",
       "      <th>rt/followers</th>\n",
       "      <th>rp/followers</th>\n",
       "      <th>tweet_has_url</th>\n",
       "      <th>num_exc</th>\n",
       "      <th>num_qm</th>\n",
       "      <th>listed/followers</th>\n",
       "      <th>user_type</th>\n",
       "      <th>period_tracker</th>\n",
       "    </tr>\n",
       "  </thead>\n",
       "  <tbody>\n",
       "    <tr>\n",
       "      <th>0</th>\n",
       "      <td>1448802667292200966</td>\n",
       "      <td>2021-10-15 00:07:27+00:00</td>\n",
       "      <td>521716695</td>\n",
       "      <td>I wonder how long before women are not allowed...</td>\n",
       "      <td>0</td>\n",
       "      <td>0</td>\n",
       "      <td>1</td>\n",
       "      <td>0</td>\n",
       "      <td>_sconsolato</td>\n",
       "      <td>Dewi ♀</td>\n",
       "      <td>...</td>\n",
       "      <td>188</td>\n",
       "      <td>-9.471675</td>\n",
       "      <td>0.0</td>\n",
       "      <td>0.000000</td>\n",
       "      <td>True</td>\n",
       "      <td>1</td>\n",
       "      <td>0</td>\n",
       "      <td>-9.471675</td>\n",
       "      <td>indv</td>\n",
       "      <td>False</td>\n",
       "    </tr>\n",
       "    <tr>\n",
       "      <th>1</th>\n",
       "      <td>1464783777381683206</td>\n",
       "      <td>2021-11-28 02:30:41+00:00</td>\n",
       "      <td>521716695</td>\n",
       "      <td>I've been watching these mid-century education...</td>\n",
       "      <td>0</td>\n",
       "      <td>0</td>\n",
       "      <td>0</td>\n",
       "      <td>0</td>\n",
       "      <td>_sconsolato</td>\n",
       "      <td>Dewi ♀</td>\n",
       "      <td>...</td>\n",
       "      <td>158</td>\n",
       "      <td>0.000000</td>\n",
       "      <td>0.0</td>\n",
       "      <td>0.000000</td>\n",
       "      <td>True</td>\n",
       "      <td>1</td>\n",
       "      <td>0</td>\n",
       "      <td>-9.471675</td>\n",
       "      <td>indv</td>\n",
       "      <td>False</td>\n",
       "    </tr>\n",
       "    <tr>\n",
       "      <th>2</th>\n",
       "      <td>1501648630725369859</td>\n",
       "      <td>2022-03-09 19:58:27+00:00</td>\n",
       "      <td>521716695</td>\n",
       "      <td>@dan_nailed @PurveyorOfPest1 @mjeslfc @BioTran...</td>\n",
       "      <td>0</td>\n",
       "      <td>1</td>\n",
       "      <td>3</td>\n",
       "      <td>0</td>\n",
       "      <td>_sconsolato</td>\n",
       "      <td>Dewi ♀</td>\n",
       "      <td>...</td>\n",
       "      <td>347</td>\n",
       "      <td>-7.886713</td>\n",
       "      <td>0.0</td>\n",
       "      <td>-9.471675</td>\n",
       "      <td>False</td>\n",
       "      <td>6</td>\n",
       "      <td>0</td>\n",
       "      <td>-9.471675</td>\n",
       "      <td>indv</td>\n",
       "      <td>False</td>\n",
       "    </tr>\n",
       "    <tr>\n",
       "      <th>3</th>\n",
       "      <td>1448803736076365824</td>\n",
       "      <td>2021-10-15 00:11:42+00:00</td>\n",
       "      <td>595644055</td>\n",
       "      <td>@Draconacticus @HamillHimself When we say \"per...</td>\n",
       "      <td>0</td>\n",
       "      <td>1</td>\n",
       "      <td>0</td>\n",
       "      <td>0</td>\n",
       "      <td>JordansMom769</td>\n",
       "      <td>Cindy H</td>\n",
       "      <td>...</td>\n",
       "      <td>221</td>\n",
       "      <td>0.000000</td>\n",
       "      <td>0.0</td>\n",
       "      <td>-4.087463</td>\n",
       "      <td>False</td>\n",
       "      <td>2</td>\n",
       "      <td>2</td>\n",
       "      <td>0.000000</td>\n",
       "      <td>indv</td>\n",
       "      <td>False</td>\n",
       "    </tr>\n",
       "    <tr>\n",
       "      <th>4</th>\n",
       "      <td>1448804546059268098</td>\n",
       "      <td>2021-10-15 00:14:55+00:00</td>\n",
       "      <td>1154281865441767424</td>\n",
       "      <td>“Menstruation is when you have a kid, right?”</td>\n",
       "      <td>0</td>\n",
       "      <td>0</td>\n",
       "      <td>0</td>\n",
       "      <td>0</td>\n",
       "      <td>_queenoffools</td>\n",
       "      <td>N8🕸</td>\n",
       "      <td>...</td>\n",
       "      <td>45</td>\n",
       "      <td>0.000000</td>\n",
       "      <td>0.0</td>\n",
       "      <td>0.000000</td>\n",
       "      <td>False</td>\n",
       "      <td>1</td>\n",
       "      <td>0</td>\n",
       "      <td>0.000000</td>\n",
       "      <td>indv</td>\n",
       "      <td>False</td>\n",
       "    </tr>\n",
       "  </tbody>\n",
       "</table>\n",
       "<p>5 rows × 33 columns</p>\n",
       "</div>"
      ],
      "text/plain": [
       "                    id               created_at_x              user_id  \\\n",
       "0  1448802667292200966  2021-10-15 00:07:27+00:00            521716695   \n",
       "1  1464783777381683206  2021-11-28 02:30:41+00:00            521716695   \n",
       "2  1501648630725369859  2022-03-09 19:58:27+00:00            521716695   \n",
       "3  1448803736076365824  2021-10-15 00:11:42+00:00            595644055   \n",
       "4  1448804546059268098  2021-10-15 00:14:55+00:00  1154281865441767424   \n",
       "\n",
       "                                                text  retweet_count  \\\n",
       "0  I wonder how long before women are not allowed...              0   \n",
       "1  I've been watching these mid-century education...              0   \n",
       "2  @dan_nailed @PurveyorOfPest1 @mjeslfc @BioTran...              0   \n",
       "3  @Draconacticus @HamillHimself When we say \"per...              0   \n",
       "4      “Menstruation is when you have a kid, right?”              0   \n",
       "\n",
       "   reply_count  like_count  quote_count       username     name  ...  \\\n",
       "0            0           1            0    _sconsolato   Dewi ♀  ...   \n",
       "1            0           0            0    _sconsolato   Dewi ♀  ...   \n",
       "2            1           3            0    _sconsolato   Dewi ♀  ...   \n",
       "3            1           0            0  JordansMom769  Cindy H  ...   \n",
       "4            0           0            0  _queenoffools      N8🕸  ...   \n",
       "\n",
       "  tweet_len like/followers  rt/followers  rp/followers  tweet_has_url  \\\n",
       "0       188      -9.471675           0.0      0.000000           True   \n",
       "1       158       0.000000           0.0      0.000000           True   \n",
       "2       347      -7.886713           0.0     -9.471675          False   \n",
       "3       221       0.000000           0.0     -4.087463          False   \n",
       "4        45       0.000000           0.0      0.000000          False   \n",
       "\n",
       "   num_exc  num_qm  listed/followers  user_type  period_tracker  \n",
       "0        1       0         -9.471675       indv           False  \n",
       "1        1       0         -9.471675       indv           False  \n",
       "2        6       0         -9.471675       indv           False  \n",
       "3        2       2          0.000000       indv           False  \n",
       "4        1       0          0.000000       indv           False  \n",
       "\n",
       "[5 rows x 33 columns]"
      ]
     },
     "execution_count": 67,
     "metadata": {},
     "output_type": "execute_result"
    }
   ],
   "source": [
    "dfr.head()"
   ]
  },
  {
   "cell_type": "markdown",
   "id": "5b38f062",
   "metadata": {},
   "source": [
    "Since performing sentiment analysis is computationally intensive, it's best if we filter out the dataset for only data we want to study. Now we can export the data for sentiment analysis using the roBerta model"
   ]
  },
  {
   "cell_type": "code",
   "execution_count": 68,
   "id": "7d6f7fc0",
   "metadata": {},
   "outputs": [
    {
     "data": {
      "text/html": [
       "<div>\n",
       "<style scoped>\n",
       "    .dataframe tbody tr th:only-of-type {\n",
       "        vertical-align: middle;\n",
       "    }\n",
       "\n",
       "    .dataframe tbody tr th {\n",
       "        vertical-align: top;\n",
       "    }\n",
       "\n",
       "    .dataframe thead th {\n",
       "        text-align: right;\n",
       "    }\n",
       "</style>\n",
       "<table border=\"1\" class=\"dataframe\">\n",
       "  <thead>\n",
       "    <tr style=\"text-align: right;\">\n",
       "      <th></th>\n",
       "      <th>id</th>\n",
       "      <th>created_at_x</th>\n",
       "      <th>user_id</th>\n",
       "      <th>text</th>\n",
       "      <th>retweet_count</th>\n",
       "      <th>reply_count</th>\n",
       "      <th>like_count</th>\n",
       "      <th>quote_count</th>\n",
       "      <th>username</th>\n",
       "      <th>name</th>\n",
       "      <th>...</th>\n",
       "      <th>like/followers</th>\n",
       "      <th>rt/followers</th>\n",
       "      <th>rp/followers</th>\n",
       "      <th>tweet_has_url</th>\n",
       "      <th>num_exc</th>\n",
       "      <th>num_qm</th>\n",
       "      <th>listed/followers</th>\n",
       "      <th>user_type</th>\n",
       "      <th>period_tracker</th>\n",
       "      <th>clean_text</th>\n",
       "    </tr>\n",
       "  </thead>\n",
       "  <tbody>\n",
       "    <tr>\n",
       "      <th>10</th>\n",
       "      <td>1448810682451955715</td>\n",
       "      <td>2021-10-15 00:39:18+00:00</td>\n",
       "      <td>131701372</td>\n",
       "      <td>Period tracker a blessing</td>\n",
       "      <td>0</td>\n",
       "      <td>0</td>\n",
       "      <td>0</td>\n",
       "      <td>0</td>\n",
       "      <td>NatashaMonique_</td>\n",
       "      <td>Natasha</td>\n",
       "      <td>...</td>\n",
       "      <td>0.000000</td>\n",
       "      <td>0.0</td>\n",
       "      <td>0.0</td>\n",
       "      <td>False</td>\n",
       "      <td>0</td>\n",
       "      <td>0</td>\n",
       "      <td>-4.877953</td>\n",
       "      <td>indv</td>\n",
       "      <td>True</td>\n",
       "      <td>period tracker blessing</td>\n",
       "    </tr>\n",
       "    <tr>\n",
       "      <th>122</th>\n",
       "      <td>1449071590499516419</td>\n",
       "      <td>2021-10-15 17:56:04+00:00</td>\n",
       "      <td>16673960</td>\n",
       "      <td>@Jordeevee @leilacohan Period Tracker</td>\n",
       "      <td>0</td>\n",
       "      <td>0</td>\n",
       "      <td>0</td>\n",
       "      <td>0</td>\n",
       "      <td>bansidhewail</td>\n",
       "      <td>Dana Goddard</td>\n",
       "      <td>...</td>\n",
       "      <td>0.000000</td>\n",
       "      <td>0.0</td>\n",
       "      <td>0.0</td>\n",
       "      <td>False</td>\n",
       "      <td>2</td>\n",
       "      <td>0</td>\n",
       "      <td>-6.554589</td>\n",
       "      <td>indv</td>\n",
       "      <td>True</td>\n",
       "      <td>jordeevee leilacohan period tracker</td>\n",
       "    </tr>\n",
       "    <tr>\n",
       "      <th>123</th>\n",
       "      <td>1450489091737284611</td>\n",
       "      <td>2021-10-19 15:48:42+00:00</td>\n",
       "      <td>16673960</td>\n",
       "      <td>@siacancu @leilacohan I just use Period Tracker.</td>\n",
       "      <td>0</td>\n",
       "      <td>0</td>\n",
       "      <td>0</td>\n",
       "      <td>0</td>\n",
       "      <td>bansidhewail</td>\n",
       "      <td>Dana Goddard</td>\n",
       "      <td>...</td>\n",
       "      <td>0.000000</td>\n",
       "      <td>0.0</td>\n",
       "      <td>0.0</td>\n",
       "      <td>False</td>\n",
       "      <td>2</td>\n",
       "      <td>0</td>\n",
       "      <td>-6.554589</td>\n",
       "      <td>indv</td>\n",
       "      <td>True</td>\n",
       "      <td>siacancu leilacohan use period tracker</td>\n",
       "    </tr>\n",
       "    <tr>\n",
       "      <th>136</th>\n",
       "      <td>1543696071137820674</td>\n",
       "      <td>2022-07-03 20:39:58+00:00</td>\n",
       "      <td>2338348428</td>\n",
       "      <td>What's #Best on https://t.co/flXwnOkooM ? The ...</td>\n",
       "      <td>0</td>\n",
       "      <td>0</td>\n",
       "      <td>3</td>\n",
       "      <td>2</td>\n",
       "      <td>FremontCyril</td>\n",
       "      <td>CYRIL FREMONT</td>\n",
       "      <td>...</td>\n",
       "      <td>-9.570488</td>\n",
       "      <td>0.0</td>\n",
       "      <td>0.0</td>\n",
       "      <td>True</td>\n",
       "      <td>1</td>\n",
       "      <td>0</td>\n",
       "      <td>0.000000</td>\n",
       "      <td>indv</td>\n",
       "      <td>True</td>\n",
       "      <td>best https co flxwnokoom post roe data privacy...</td>\n",
       "    </tr>\n",
       "    <tr>\n",
       "      <th>140</th>\n",
       "      <td>1543696163458764801</td>\n",
       "      <td>2022-07-03 20:40:20+00:00</td>\n",
       "      <td>2300501173</td>\n",
       "      <td>#Best of the day on https://t.co/k05yokndMa Th...</td>\n",
       "      <td>0</td>\n",
       "      <td>0</td>\n",
       "      <td>1</td>\n",
       "      <td>1</td>\n",
       "      <td>BestTLD</td>\n",
       "      <td>.Best Top-Level Domain</td>\n",
       "      <td>...</td>\n",
       "      <td>-11.700873</td>\n",
       "      <td>0.0</td>\n",
       "      <td>0.0</td>\n",
       "      <td>True</td>\n",
       "      <td>0</td>\n",
       "      <td>0</td>\n",
       "      <td>-5.818230</td>\n",
       "      <td>indv</td>\n",
       "      <td>True</td>\n",
       "      <td>best day https co k05yokndma post roe data pri...</td>\n",
       "    </tr>\n",
       "  </tbody>\n",
       "</table>\n",
       "<p>5 rows × 34 columns</p>\n",
       "</div>"
      ],
      "text/plain": [
       "                      id               created_at_x     user_id  \\\n",
       "10   1448810682451955715  2021-10-15 00:39:18+00:00   131701372   \n",
       "122  1449071590499516419  2021-10-15 17:56:04+00:00    16673960   \n",
       "123  1450489091737284611  2021-10-19 15:48:42+00:00    16673960   \n",
       "136  1543696071137820674  2022-07-03 20:39:58+00:00  2338348428   \n",
       "140  1543696163458764801  2022-07-03 20:40:20+00:00  2300501173   \n",
       "\n",
       "                                                  text  retweet_count  \\\n",
       "10                           Period tracker a blessing              0   \n",
       "122              @Jordeevee @leilacohan Period Tracker              0   \n",
       "123   @siacancu @leilacohan I just use Period Tracker.              0   \n",
       "136  What's #Best on https://t.co/flXwnOkooM ? The ...              0   \n",
       "140  #Best of the day on https://t.co/k05yokndMa Th...              0   \n",
       "\n",
       "     reply_count  like_count  quote_count         username  \\\n",
       "10             0           0            0  NatashaMonique_   \n",
       "122            0           0            0     bansidhewail   \n",
       "123            0           0            0     bansidhewail   \n",
       "136            0           3            2     FremontCyril   \n",
       "140            0           1            1          BestTLD   \n",
       "\n",
       "                       name  ... like/followers rt/followers  rp/followers  \\\n",
       "10                  Natasha  ...       0.000000          0.0           0.0   \n",
       "122            Dana Goddard  ...       0.000000          0.0           0.0   \n",
       "123            Dana Goddard  ...       0.000000          0.0           0.0   \n",
       "136           CYRIL FREMONT  ...      -9.570488          0.0           0.0   \n",
       "140  .Best Top-Level Domain  ...     -11.700873          0.0           0.0   \n",
       "\n",
       "     tweet_has_url  num_exc  num_qm  listed/followers  user_type  \\\n",
       "10           False        0       0         -4.877953       indv   \n",
       "122          False        2       0         -6.554589       indv   \n",
       "123          False        2       0         -6.554589       indv   \n",
       "136           True        1       0          0.000000       indv   \n",
       "140           True        0       0         -5.818230       indv   \n",
       "\n",
       "     period_tracker                                         clean_text  \n",
       "10             True                            period tracker blessing  \n",
       "122            True                jordeevee leilacohan period tracker  \n",
       "123            True             siacancu leilacohan use period tracker  \n",
       "136            True  best https co flxwnokoom post roe data privacy...  \n",
       "140            True  best day https co k05yokndma post roe data pri...  \n",
       "\n",
       "[5 rows x 34 columns]"
      ]
     },
     "execution_count": 68,
     "metadata": {},
     "output_type": "execute_result"
    }
   ],
   "source": [
    "data = dfr.loc[(dfr['user_type']=='indv') & (dfr['period_tracker']== True)]\n",
    "data['clean_text'] = data['text'].apply(process_tweets)\n",
    "data.head()"
   ]
  },
  {
   "cell_type": "markdown",
   "id": "ae377242",
   "metadata": {},
   "source": [
    "**Labeling sentiment**"
   ]
  },
  {
   "cell_type": "markdown",
   "id": "e3302685",
   "metadata": {},
   "source": [
    "Let's export the dataset for sentiment analysis for the roBerta model from HuggingFace:"
   ]
  },
  {
   "cell_type": "code",
   "execution_count": 197,
   "id": "fc5ae721",
   "metadata": {},
   "outputs": [],
   "source": [
    "data.to_csv('partial_labeled_data.csv')"
   ]
  },
  {
   "cell_type": "markdown",
   "id": "f472aff2",
   "metadata": {},
   "source": [
    "This is the end of part 2. "
   ]
  }
 ],
 "metadata": {
  "kernelspec": {
   "display_name": "Python 3 (ipykernel)",
   "language": "python",
   "name": "python3"
  },
  "language_info": {
   "codemirror_mode": {
    "name": "ipython",
    "version": 3
   },
   "file_extension": ".py",
   "mimetype": "text/x-python",
   "name": "python",
   "nbconvert_exporter": "python",
   "pygments_lexer": "ipython3",
   "version": "3.9.12"
  }
 },
 "nbformat": 4,
 "nbformat_minor": 5
}
